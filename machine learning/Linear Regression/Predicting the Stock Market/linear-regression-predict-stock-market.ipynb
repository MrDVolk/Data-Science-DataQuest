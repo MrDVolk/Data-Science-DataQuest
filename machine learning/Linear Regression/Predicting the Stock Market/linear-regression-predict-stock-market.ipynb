{
 "cells": [
  {
   "cell_type": "code",
   "execution_count": 1,
   "metadata": {},
   "outputs": [],
   "source": [
    "import pandas as pd\n",
    "from datetime import datetime"
   ]
  },
  {
   "cell_type": "code",
   "execution_count": 2,
   "metadata": {},
   "outputs": [],
   "source": [
    "df = pd.read_csv(\"sphist.csv\")"
   ]
  },
  {
   "cell_type": "code",
   "execution_count": 3,
   "metadata": {},
   "outputs": [
    {
     "data": {
      "text/html": [
       "<div>\n",
       "<style>\n",
       "    .dataframe thead tr:only-child th {\n",
       "        text-align: right;\n",
       "    }\n",
       "\n",
       "    .dataframe thead th {\n",
       "        text-align: left;\n",
       "    }\n",
       "\n",
       "    .dataframe tbody tr th {\n",
       "        vertical-align: top;\n",
       "    }\n",
       "</style>\n",
       "<table border=\"1\" class=\"dataframe\">\n",
       "  <thead>\n",
       "    <tr style=\"text-align: right;\">\n",
       "      <th></th>\n",
       "      <th>Date</th>\n",
       "      <th>Open</th>\n",
       "      <th>High</th>\n",
       "      <th>Low</th>\n",
       "      <th>Close</th>\n",
       "      <th>Volume</th>\n",
       "      <th>Adj Close</th>\n",
       "    </tr>\n",
       "  </thead>\n",
       "  <tbody>\n",
       "    <tr>\n",
       "      <th>0</th>\n",
       "      <td>2015-12-07</td>\n",
       "      <td>2090.419922</td>\n",
       "      <td>2090.419922</td>\n",
       "      <td>2066.780029</td>\n",
       "      <td>2077.070068</td>\n",
       "      <td>4.043820e+09</td>\n",
       "      <td>2077.070068</td>\n",
       "    </tr>\n",
       "    <tr>\n",
       "      <th>1</th>\n",
       "      <td>2015-12-04</td>\n",
       "      <td>2051.239990</td>\n",
       "      <td>2093.840088</td>\n",
       "      <td>2051.239990</td>\n",
       "      <td>2091.689941</td>\n",
       "      <td>4.214910e+09</td>\n",
       "      <td>2091.689941</td>\n",
       "    </tr>\n",
       "    <tr>\n",
       "      <th>2</th>\n",
       "      <td>2015-12-03</td>\n",
       "      <td>2080.709961</td>\n",
       "      <td>2085.000000</td>\n",
       "      <td>2042.349976</td>\n",
       "      <td>2049.620117</td>\n",
       "      <td>4.306490e+09</td>\n",
       "      <td>2049.620117</td>\n",
       "    </tr>\n",
       "    <tr>\n",
       "      <th>3</th>\n",
       "      <td>2015-12-02</td>\n",
       "      <td>2101.709961</td>\n",
       "      <td>2104.270020</td>\n",
       "      <td>2077.110107</td>\n",
       "      <td>2079.510010</td>\n",
       "      <td>3.950640e+09</td>\n",
       "      <td>2079.510010</td>\n",
       "    </tr>\n",
       "    <tr>\n",
       "      <th>4</th>\n",
       "      <td>2015-12-01</td>\n",
       "      <td>2082.929932</td>\n",
       "      <td>2103.370117</td>\n",
       "      <td>2082.929932</td>\n",
       "      <td>2102.629883</td>\n",
       "      <td>3.712120e+09</td>\n",
       "      <td>2102.629883</td>\n",
       "    </tr>\n",
       "  </tbody>\n",
       "</table>\n",
       "</div>"
      ],
      "text/plain": [
       "         Date         Open         High          Low        Close  \\\n",
       "0  2015-12-07  2090.419922  2090.419922  2066.780029  2077.070068   \n",
       "1  2015-12-04  2051.239990  2093.840088  2051.239990  2091.689941   \n",
       "2  2015-12-03  2080.709961  2085.000000  2042.349976  2049.620117   \n",
       "3  2015-12-02  2101.709961  2104.270020  2077.110107  2079.510010   \n",
       "4  2015-12-01  2082.929932  2103.370117  2082.929932  2102.629883   \n",
       "\n",
       "         Volume    Adj Close  \n",
       "0  4.043820e+09  2077.070068  \n",
       "1  4.214910e+09  2091.689941  \n",
       "2  4.306490e+09  2049.620117  \n",
       "3  3.950640e+09  2079.510010  \n",
       "4  3.712120e+09  2102.629883  "
      ]
     },
     "execution_count": 3,
     "metadata": {},
     "output_type": "execute_result"
    }
   ],
   "source": [
    "df.head()"
   ]
  },
  {
   "cell_type": "code",
   "execution_count": 4,
   "metadata": {},
   "outputs": [],
   "source": [
    "df['Date'] = pd.to_datetime(df['Date'])"
   ]
  },
  {
   "cell_type": "code",
   "execution_count": 5,
   "metadata": {},
   "outputs": [],
   "source": [
    "sorted_df = df.sort_values(by=['Date'])"
   ]
  },
  {
   "cell_type": "code",
   "execution_count": 6,
   "metadata": {},
   "outputs": [],
   "source": [
    "sorted_df = sorted_df.reset_index(drop=True)"
   ]
  },
  {
   "cell_type": "markdown",
   "metadata": {},
   "source": [
    "Create time-windowed dataframe with some basic info about previous sales for each row"
   ]
  },
  {
   "cell_type": "code",
   "execution_count": 7,
   "metadata": {},
   "outputs": [],
   "source": [
    "tw_df = sorted_df.copy()"
   ]
  },
  {
   "cell_type": "markdown",
   "metadata": {},
   "source": [
    "We're going to use data for the previous 365 working days at max, meaning that we should start our training set one yearlater than the initial records"
   ]
  },
  {
   "cell_type": "code",
   "execution_count": 8,
   "metadata": {},
   "outputs": [
    {
     "data": {
      "text/html": [
       "<div>\n",
       "<style>\n",
       "    .dataframe thead tr:only-child th {\n",
       "        text-align: right;\n",
       "    }\n",
       "\n",
       "    .dataframe thead th {\n",
       "        text-align: left;\n",
       "    }\n",
       "\n",
       "    .dataframe tbody tr th {\n",
       "        vertical-align: top;\n",
       "    }\n",
       "</style>\n",
       "<table border=\"1\" class=\"dataframe\">\n",
       "  <thead>\n",
       "    <tr style=\"text-align: right;\">\n",
       "      <th></th>\n",
       "      <th>Date</th>\n",
       "      <th>Open</th>\n",
       "      <th>High</th>\n",
       "      <th>Low</th>\n",
       "      <th>Close</th>\n",
       "      <th>Volume</th>\n",
       "      <th>Adj Close</th>\n",
       "    </tr>\n",
       "  </thead>\n",
       "  <tbody>\n",
       "    <tr>\n",
       "      <th>0</th>\n",
       "      <td>1950-01-03</td>\n",
       "      <td>16.66</td>\n",
       "      <td>16.66</td>\n",
       "      <td>16.66</td>\n",
       "      <td>16.66</td>\n",
       "      <td>1260000.0</td>\n",
       "      <td>16.66</td>\n",
       "    </tr>\n",
       "    <tr>\n",
       "      <th>1</th>\n",
       "      <td>1950-01-04</td>\n",
       "      <td>16.85</td>\n",
       "      <td>16.85</td>\n",
       "      <td>16.85</td>\n",
       "      <td>16.85</td>\n",
       "      <td>1890000.0</td>\n",
       "      <td>16.85</td>\n",
       "    </tr>\n",
       "    <tr>\n",
       "      <th>2</th>\n",
       "      <td>1950-01-05</td>\n",
       "      <td>16.93</td>\n",
       "      <td>16.93</td>\n",
       "      <td>16.93</td>\n",
       "      <td>16.93</td>\n",
       "      <td>2550000.0</td>\n",
       "      <td>16.93</td>\n",
       "    </tr>\n",
       "    <tr>\n",
       "      <th>3</th>\n",
       "      <td>1950-01-06</td>\n",
       "      <td>16.98</td>\n",
       "      <td>16.98</td>\n",
       "      <td>16.98</td>\n",
       "      <td>16.98</td>\n",
       "      <td>2010000.0</td>\n",
       "      <td>16.98</td>\n",
       "    </tr>\n",
       "    <tr>\n",
       "      <th>4</th>\n",
       "      <td>1950-01-09</td>\n",
       "      <td>17.08</td>\n",
       "      <td>17.08</td>\n",
       "      <td>17.08</td>\n",
       "      <td>17.08</td>\n",
       "      <td>2520000.0</td>\n",
       "      <td>17.08</td>\n",
       "    </tr>\n",
       "  </tbody>\n",
       "</table>\n",
       "</div>"
      ],
      "text/plain": [
       "        Date   Open   High    Low  Close     Volume  Adj Close\n",
       "0 1950-01-03  16.66  16.66  16.66  16.66  1260000.0      16.66\n",
       "1 1950-01-04  16.85  16.85  16.85  16.85  1890000.0      16.85\n",
       "2 1950-01-05  16.93  16.93  16.93  16.93  2550000.0      16.93\n",
       "3 1950-01-06  16.98  16.98  16.98  16.98  2010000.0      16.98\n",
       "4 1950-01-09  17.08  17.08  17.08  17.08  2520000.0      17.08"
      ]
     },
     "execution_count": 8,
     "metadata": {},
     "output_type": "execute_result"
    }
   ],
   "source": [
    "tw_df.head()"
   ]
  },
  {
   "cell_type": "code",
   "execution_count": 9,
   "metadata": {},
   "outputs": [],
   "source": [
    "#tw_df.rolling(window=5)['Open'].mean().shift(1)"
   ]
  },
  {
   "cell_type": "markdown",
   "metadata": {},
   "source": [
    "Target to predict - 'Close' column (the closing value of stock market). Because we are going to use simple linear regression instead of RNN (which is more appropriate as the dataset is a time-series in reality), we need to provide some basic statistics about the previous days for each row."
   ]
  },
  {
   "cell_type": "markdown",
   "metadata": {},
   "source": [
    "That includes the precise prices for last 3 days, mean, std, variance for last 7, 14, 30, 180, 365 days and some ratio between those values."
   ]
  },
  {
   "cell_type": "code",
   "execution_count": 10,
   "metadata": {},
   "outputs": [
    {
     "data": {
      "text/plain": [
       "Open         0.999901\n",
       "High         0.999954\n",
       "Low          0.999956\n",
       "Close        1.000000\n",
       "Volume       0.774393\n",
       "Adj Close    1.000000\n",
       "Name: Close, dtype: float64"
      ]
     },
     "execution_count": 10,
     "metadata": {},
     "output_type": "execute_result"
    }
   ],
   "source": [
    "tw_df[['Open', 'High', 'Low', 'Close', 'Volume', 'Adj Close']].corr()['Close']"
   ]
  },
  {
   "cell_type": "markdown",
   "metadata": {},
   "source": [
    "The mentioned statistics would be used for columns 'Close' and 'Volume'"
   ]
  },
  {
   "cell_type": "code",
   "execution_count": 11,
   "metadata": {},
   "outputs": [],
   "source": [
    "stat_columns = ['Close', 'Volume']\n",
    "new_stat_columns = []\n",
    "for col in stat_columns:\n",
    "    windows = [7, 14, 30, 180, 365]\n",
    "    for window in windows:\n",
    "        \n",
    "        def get_col_name(func_name):\n",
    "            name = col+'_'+func_name+'_'+str(window)\n",
    "            new_stat_columns.append(name)\n",
    "            return name\n",
    "        \n",
    "        tw_df[get_col_name('mean')] = tw_df.rolling(window=window)[col].mean().shift(1)\n",
    "        tw_df[get_col_name('std')] = tw_df.rolling(window=window)[col].std().shift(1)\n",
    "        tw_df[get_col_name('var')] = tw_df.rolling(window=window)[col].var().shift(1)"
   ]
  },
  {
   "cell_type": "code",
   "execution_count": 12,
   "metadata": {},
   "outputs": [],
   "source": [
    "tw_df = tw_df.dropna(axis=0)"
   ]
  },
  {
   "cell_type": "code",
   "execution_count": 13,
   "metadata": {},
   "outputs": [
    {
     "data": {
      "text/html": [
       "<div>\n",
       "<style>\n",
       "    .dataframe thead tr:only-child th {\n",
       "        text-align: right;\n",
       "    }\n",
       "\n",
       "    .dataframe thead th {\n",
       "        text-align: left;\n",
       "    }\n",
       "\n",
       "    .dataframe tbody tr th {\n",
       "        vertical-align: top;\n",
       "    }\n",
       "</style>\n",
       "<table border=\"1\" class=\"dataframe\">\n",
       "  <thead>\n",
       "    <tr style=\"text-align: right;\">\n",
       "      <th></th>\n",
       "      <th>Date</th>\n",
       "      <th>Open</th>\n",
       "      <th>High</th>\n",
       "      <th>Low</th>\n",
       "      <th>Close</th>\n",
       "      <th>Volume</th>\n",
       "      <th>Adj Close</th>\n",
       "      <th>Close_mean_7</th>\n",
       "      <th>Close_std_7</th>\n",
       "      <th>Close_var_7</th>\n",
       "      <th>...</th>\n",
       "      <th>Volume_var_14</th>\n",
       "      <th>Volume_mean_30</th>\n",
       "      <th>Volume_std_30</th>\n",
       "      <th>Volume_var_30</th>\n",
       "      <th>Volume_mean_180</th>\n",
       "      <th>Volume_std_180</th>\n",
       "      <th>Volume_var_180</th>\n",
       "      <th>Volume_mean_365</th>\n",
       "      <th>Volume_std_365</th>\n",
       "      <th>Volume_var_365</th>\n",
       "    </tr>\n",
       "  </thead>\n",
       "  <tbody>\n",
       "    <tr>\n",
       "      <th>365</th>\n",
       "      <td>1951-06-19</td>\n",
       "      <td>22.020000</td>\n",
       "      <td>22.020000</td>\n",
       "      <td>22.020000</td>\n",
       "      <td>22.020000</td>\n",
       "      <td>1100000.0</td>\n",
       "      <td>22.020000</td>\n",
       "      <td>21.728571</td>\n",
       "      <td>0.244638</td>\n",
       "      <td>0.059848</td>\n",
       "      <td>...</td>\n",
       "      <td>5.322760e+12</td>\n",
       "      <td>1.707667e+06</td>\n",
       "      <td>1.566790e+06</td>\n",
       "      <td>2.454832e+12</td>\n",
       "      <td>2.075111e+06</td>\n",
       "      <td>907864.760490</td>\n",
       "      <td>8.242184e+11</td>\n",
       "      <td>1.989479e+06</td>\n",
       "      <td>772310.649463</td>\n",
       "      <td>5.964637e+11</td>\n",
       "    </tr>\n",
       "    <tr>\n",
       "      <th>366</th>\n",
       "      <td>1951-06-20</td>\n",
       "      <td>21.910000</td>\n",
       "      <td>21.910000</td>\n",
       "      <td>21.910000</td>\n",
       "      <td>21.910000</td>\n",
       "      <td>1120000.0</td>\n",
       "      <td>21.910000</td>\n",
       "      <td>21.804286</td>\n",
       "      <td>0.240476</td>\n",
       "      <td>0.057829</td>\n",
       "      <td>...</td>\n",
       "      <td>5.331825e+12</td>\n",
       "      <td>1.691667e+06</td>\n",
       "      <td>1.570585e+06</td>\n",
       "      <td>2.466739e+12</td>\n",
       "      <td>2.068111e+06</td>\n",
       "      <td>910509.580994</td>\n",
       "      <td>8.290277e+11</td>\n",
       "      <td>1.989041e+06</td>\n",
       "      <td>772771.102512</td>\n",
       "      <td>5.971752e+11</td>\n",
       "    </tr>\n",
       "    <tr>\n",
       "      <th>367</th>\n",
       "      <td>1951-06-21</td>\n",
       "      <td>21.780001</td>\n",
       "      <td>21.780001</td>\n",
       "      <td>21.780001</td>\n",
       "      <td>21.780001</td>\n",
       "      <td>1100000.0</td>\n",
       "      <td>21.780001</td>\n",
       "      <td>21.847143</td>\n",
       "      <td>0.226401</td>\n",
       "      <td>0.051257</td>\n",
       "      <td>...</td>\n",
       "      <td>5.341407e+12</td>\n",
       "      <td>1.675667e+06</td>\n",
       "      <td>1.573993e+06</td>\n",
       "      <td>2.477453e+12</td>\n",
       "      <td>2.062111e+06</td>\n",
       "      <td>913190.116407</td>\n",
       "      <td>8.339162e+11</td>\n",
       "      <td>1.986932e+06</td>\n",
       "      <td>774092.100761</td>\n",
       "      <td>5.992186e+11</td>\n",
       "    </tr>\n",
       "    <tr>\n",
       "      <th>368</th>\n",
       "      <td>1951-06-22</td>\n",
       "      <td>21.549999</td>\n",
       "      <td>21.549999</td>\n",
       "      <td>21.549999</td>\n",
       "      <td>21.549999</td>\n",
       "      <td>1340000.0</td>\n",
       "      <td>21.549999</td>\n",
       "      <td>21.884286</td>\n",
       "      <td>0.180449</td>\n",
       "      <td>0.032562</td>\n",
       "      <td>...</td>\n",
       "      <td>1.251429e+10</td>\n",
       "      <td>1.647000e+06</td>\n",
       "      <td>1.576465e+06</td>\n",
       "      <td>2.485242e+12</td>\n",
       "      <td>2.058222e+06</td>\n",
       "      <td>915799.345906</td>\n",
       "      <td>8.386884e+11</td>\n",
       "      <td>1.982959e+06</td>\n",
       "      <td>774914.749625</td>\n",
       "      <td>6.004929e+11</td>\n",
       "    </tr>\n",
       "    <tr>\n",
       "      <th>369</th>\n",
       "      <td>1951-06-25</td>\n",
       "      <td>21.290001</td>\n",
       "      <td>21.290001</td>\n",
       "      <td>21.290001</td>\n",
       "      <td>21.290001</td>\n",
       "      <td>2440000.0</td>\n",
       "      <td>21.290001</td>\n",
       "      <td>21.884286</td>\n",
       "      <td>0.180449</td>\n",
       "      <td>0.032562</td>\n",
       "      <td>...</td>\n",
       "      <td>1.414945e+10</td>\n",
       "      <td>1.636333e+06</td>\n",
       "      <td>1.577456e+06</td>\n",
       "      <td>2.488369e+12</td>\n",
       "      <td>2.053444e+06</td>\n",
       "      <td>917297.659921</td>\n",
       "      <td>8.414350e+11</td>\n",
       "      <td>1.981123e+06</td>\n",
       "      <td>775643.723180</td>\n",
       "      <td>6.016232e+11</td>\n",
       "    </tr>\n",
       "  </tbody>\n",
       "</table>\n",
       "<p>5 rows × 37 columns</p>\n",
       "</div>"
      ],
      "text/plain": [
       "          Date       Open       High        Low      Close     Volume  \\\n",
       "365 1951-06-19  22.020000  22.020000  22.020000  22.020000  1100000.0   \n",
       "366 1951-06-20  21.910000  21.910000  21.910000  21.910000  1120000.0   \n",
       "367 1951-06-21  21.780001  21.780001  21.780001  21.780001  1100000.0   \n",
       "368 1951-06-22  21.549999  21.549999  21.549999  21.549999  1340000.0   \n",
       "369 1951-06-25  21.290001  21.290001  21.290001  21.290001  2440000.0   \n",
       "\n",
       "     Adj Close  Close_mean_7  Close_std_7  Close_var_7       ...        \\\n",
       "365  22.020000     21.728571     0.244638     0.059848       ...         \n",
       "366  21.910000     21.804286     0.240476     0.057829       ...         \n",
       "367  21.780001     21.847143     0.226401     0.051257       ...         \n",
       "368  21.549999     21.884286     0.180449     0.032562       ...         \n",
       "369  21.290001     21.884286     0.180449     0.032562       ...         \n",
       "\n",
       "     Volume_var_14  Volume_mean_30  Volume_std_30  Volume_var_30  \\\n",
       "365   5.322760e+12    1.707667e+06   1.566790e+06   2.454832e+12   \n",
       "366   5.331825e+12    1.691667e+06   1.570585e+06   2.466739e+12   \n",
       "367   5.341407e+12    1.675667e+06   1.573993e+06   2.477453e+12   \n",
       "368   1.251429e+10    1.647000e+06   1.576465e+06   2.485242e+12   \n",
       "369   1.414945e+10    1.636333e+06   1.577456e+06   2.488369e+12   \n",
       "\n",
       "     Volume_mean_180  Volume_std_180  Volume_var_180  Volume_mean_365  \\\n",
       "365     2.075111e+06   907864.760490    8.242184e+11     1.989479e+06   \n",
       "366     2.068111e+06   910509.580994    8.290277e+11     1.989041e+06   \n",
       "367     2.062111e+06   913190.116407    8.339162e+11     1.986932e+06   \n",
       "368     2.058222e+06   915799.345906    8.386884e+11     1.982959e+06   \n",
       "369     2.053444e+06   917297.659921    8.414350e+11     1.981123e+06   \n",
       "\n",
       "     Volume_std_365  Volume_var_365  \n",
       "365   772310.649463    5.964637e+11  \n",
       "366   772771.102512    5.971752e+11  \n",
       "367   774092.100761    5.992186e+11  \n",
       "368   774914.749625    6.004929e+11  \n",
       "369   775643.723180    6.016232e+11  \n",
       "\n",
       "[5 rows x 37 columns]"
      ]
     },
     "execution_count": 13,
     "metadata": {},
     "output_type": "execute_result"
    }
   ],
   "source": [
    "tw_df.head()"
   ]
  },
  {
   "cell_type": "code",
   "execution_count": 17,
   "metadata": {},
   "outputs": [],
   "source": [
    "corr_columns = new_stat_columns.copy()\n",
    "corr_columns.append('Close')"
   ]
  },
  {
   "cell_type": "code",
   "execution_count": 18,
   "metadata": {},
   "outputs": [
    {
     "data": {
      "text/plain": [
       "Close_mean_7       0.999743\n",
       "Close_std_7        0.741346\n",
       "Close_var_7        0.414952\n",
       "Close_mean_14      0.999578\n",
       "Close_std_14       0.764517\n",
       "Close_var_14       0.444208\n",
       "Close_mean_30      0.999189\n",
       "Close_std_30       0.778583\n",
       "Close_var_30       0.462857\n",
       "Close_mean_180     0.995231\n",
       "Close_std_180      0.772385\n",
       "Close_var_180      0.451234\n",
       "Close_mean_365     0.988870\n",
       "Close_std_365      0.816103\n",
       "Close_var_365      0.569187\n",
       "Volume_mean_7      0.782221\n",
       "Volume_std_7       0.633780\n",
       "Volume_var_7       0.334966\n",
       "Volume_mean_14     0.784848\n",
       "Volume_std_14      0.663721\n",
       "Volume_var_14      0.379888\n",
       "Volume_mean_30     0.786908\n",
       "Volume_std_30      0.684340\n",
       "Volume_var_30      0.407893\n",
       "Volume_mean_180    0.785872\n",
       "Volume_std_180     0.696843\n",
       "Volume_var_180     0.443765\n",
       "Volume_mean_365    0.784878\n",
       "Volume_std_365     0.684141\n",
       "Volume_var_365     0.441265\n",
       "Close              1.000000\n",
       "Name: Close, dtype: float64"
      ]
     },
     "execution_count": 18,
     "metadata": {},
     "output_type": "execute_result"
    }
   ],
   "source": [
    "tw_df[corr_columns].corr()['Close']"
   ]
  },
  {
   "cell_type": "markdown",
   "metadata": {},
   "source": [
    "Every new column seems to have a rather strong correlation with the Close value (all above 0.3). Better keep them all for more reliable result."
   ]
  },
  {
   "cell_type": "code",
   "execution_count": 19,
   "metadata": {},
   "outputs": [],
   "source": [
    "features = new_stat_columns"
   ]
  },
  {
   "cell_type": "code",
   "execution_count": 21,
   "metadata": {},
   "outputs": [],
   "source": [
    "train = tw_df[tw_df[\"Date\"] < datetime(year=2013, month=1, day=1)]\n",
    "test = tw_df[tw_df[\"Date\"] >= datetime(year=2013, month=1, day=1)]"
   ]
  },
  {
   "cell_type": "markdown",
   "metadata": {},
   "source": [
    "# Training the model"
   ]
  },
  {
   "cell_type": "code",
   "execution_count": 25,
   "metadata": {},
   "outputs": [],
   "source": [
    "from sklearn.linear_model import LinearRegression\n",
    "from sklearn.metrics import mean_squared_error\n",
    "import numpy as np"
   ]
  },
  {
   "cell_type": "code",
   "execution_count": 183,
   "metadata": {},
   "outputs": [],
   "source": [
    "def compare_predictions(predicted, test, target_col):\n",
    "    check_df = pd.DataFrame(data=predicted, index=test.index, columns=[\"Predicted\"+target_col])\n",
    "    check_df = pd.concat([check_df, test[[target_col, 'Close-1', 'Close-2', 'Close-3', 'Date']]], axis=1)\n",
    "    #check_df[target_col] = test[target_col]\n",
    "    check_df[\"Error, %\"] = np.abs(check_df[\"Predicted\"+target_col]*100/check_df[target_col] - 100)\n",
    "    check_df['Error, val'] = check_df[\"Predicted\"+target_col] - check_df[target_col]\n",
    "    return (check_df.sort_index(), check_df[\"Error, %\"].mean())\n",
    "\n",
    "def test_model(train, test, features, target_col='Close'):    \n",
    "    lr = LinearRegression()\n",
    "    lr.fit(train[features], train[target_col])\n",
    "    \n",
    "    lr_train_pred = lr.predict(train[features])\n",
    "    lr_train_rmse = mean_squared_error(lr_train_pred, train[target_col]) ** 0.5\n",
    "\n",
    "    lr_test_pred = lr.predict(test[features])\n",
    "    lr_test_rmse = mean_squared_error(lr_test_pred, test[target_col]) ** 0.5\n",
    "\n",
    "    print(\"RMSE TRAIN AND TEST:\")\n",
    "    print(lr_train_rmse, lr_test_rmse)\n",
    "    \n",
    "    check_df, avg_error = compare_predictions(lr_test_pred, test, target_col)\n",
    "    \n",
    "    print(\"AVERAGE ERROR:\", avg_error)\n",
    "    \n",
    "    print(check_df.head(10))\n",
    "    \n",
    "    return (lr, check_df)"
   ]
  },
  {
   "cell_type": "code",
   "execution_count": 172,
   "metadata": {},
   "outputs": [
    {
     "name": "stdout",
     "output_type": "stream",
     "text": [
      "RMSE TRAIN AND TEST:\n",
      "7.56298362557 15.0111667184\n",
      "AVERAGE ERROR: 0.5775987771598083\n",
      "       PredictedClose        Close  Error, %\n",
      "15851     1425.961100  1462.420044  2.493056\n",
      "15852     1460.259422  1459.369995  0.060946\n",
      "15853     1459.250098  1466.469971  0.492330\n",
      "15854     1466.290906  1461.890015  0.301041\n",
      "15855     1461.693325  1457.150024  0.311794\n",
      "15856     1457.247796  1461.020020  0.258191\n",
      "15857     1459.126248  1472.119995  0.882655\n",
      "15858     1469.707587  1472.050049  0.159129\n",
      "15859     1470.545645  1470.680054  0.009139\n",
      "15860     1469.729868  1472.339966  0.177275\n"
     ]
    }
   ],
   "source": [
    "lr, check_df = test_model(train, test, features, 'Close')"
   ]
  },
  {
   "cell_type": "code",
   "execution_count": 30,
   "metadata": {},
   "outputs": [
    {
     "data": {
      "text/html": [
       "<div>\n",
       "<style>\n",
       "    .dataframe thead tr:only-child th {\n",
       "        text-align: right;\n",
       "    }\n",
       "\n",
       "    .dataframe thead th {\n",
       "        text-align: left;\n",
       "    }\n",
       "\n",
       "    .dataframe tbody tr th {\n",
       "        vertical-align: top;\n",
       "    }\n",
       "</style>\n",
       "<table border=\"1\" class=\"dataframe\">\n",
       "  <thead>\n",
       "    <tr style=\"text-align: right;\">\n",
       "      <th></th>\n",
       "      <th>PredictedClose</th>\n",
       "      <th>Close</th>\n",
       "      <th>Error, %</th>\n",
       "    </tr>\n",
       "  </thead>\n",
       "  <tbody>\n",
       "    <tr>\n",
       "      <th>15851</th>\n",
       "      <td>1452.362944</td>\n",
       "      <td>1462.420044</td>\n",
       "      <td>0.687703</td>\n",
       "    </tr>\n",
       "    <tr>\n",
       "      <th>15852</th>\n",
       "      <td>1455.288112</td>\n",
       "      <td>1459.369995</td>\n",
       "      <td>0.279702</td>\n",
       "    </tr>\n",
       "    <tr>\n",
       "      <th>15853</th>\n",
       "      <td>1458.320010</td>\n",
       "      <td>1466.469971</td>\n",
       "      <td>0.555754</td>\n",
       "    </tr>\n",
       "    <tr>\n",
       "      <th>15854</th>\n",
       "      <td>1461.168099</td>\n",
       "      <td>1461.890015</td>\n",
       "      <td>0.049382</td>\n",
       "    </tr>\n",
       "    <tr>\n",
       "      <th>15855</th>\n",
       "      <td>1464.216205</td>\n",
       "      <td>1457.150024</td>\n",
       "      <td>0.484932</td>\n",
       "    </tr>\n",
       "    <tr>\n",
       "      <th>15856</th>\n",
       "      <td>1462.796492</td>\n",
       "      <td>1461.020020</td>\n",
       "      <td>0.121591</td>\n",
       "    </tr>\n",
       "    <tr>\n",
       "      <th>15857</th>\n",
       "      <td>1462.376558</td>\n",
       "      <td>1472.119995</td>\n",
       "      <td>0.661864</td>\n",
       "    </tr>\n",
       "    <tr>\n",
       "      <th>15858</th>\n",
       "      <td>1460.713718</td>\n",
       "      <td>1472.050049</td>\n",
       "      <td>0.770105</td>\n",
       "    </tr>\n",
       "    <tr>\n",
       "      <th>15859</th>\n",
       "      <td>1462.974936</td>\n",
       "      <td>1470.680054</td>\n",
       "      <td>0.523915</td>\n",
       "    </tr>\n",
       "    <tr>\n",
       "      <th>15860</th>\n",
       "      <td>1458.829998</td>\n",
       "      <td>1472.339966</td>\n",
       "      <td>0.917585</td>\n",
       "    </tr>\n",
       "    <tr>\n",
       "      <th>15861</th>\n",
       "      <td>1456.980887</td>\n",
       "      <td>1472.630005</td>\n",
       "      <td>1.062665</td>\n",
       "    </tr>\n",
       "    <tr>\n",
       "      <th>15862</th>\n",
       "      <td>1459.670835</td>\n",
       "      <td>1480.939941</td>\n",
       "      <td>1.436190</td>\n",
       "    </tr>\n",
       "    <tr>\n",
       "      <th>15863</th>\n",
       "      <td>1463.161382</td>\n",
       "      <td>1485.979980</td>\n",
       "      <td>1.535593</td>\n",
       "    </tr>\n",
       "    <tr>\n",
       "      <th>15864</th>\n",
       "      <td>1470.101754</td>\n",
       "      <td>1492.560059</td>\n",
       "      <td>1.504684</td>\n",
       "    </tr>\n",
       "    <tr>\n",
       "      <th>15865</th>\n",
       "      <td>1478.669803</td>\n",
       "      <td>1494.810059</td>\n",
       "      <td>1.079753</td>\n",
       "    </tr>\n",
       "    <tr>\n",
       "      <th>15866</th>\n",
       "      <td>1479.408179</td>\n",
       "      <td>1494.819946</td>\n",
       "      <td>1.031012</td>\n",
       "    </tr>\n",
       "    <tr>\n",
       "      <th>15867</th>\n",
       "      <td>1482.060747</td>\n",
       "      <td>1502.959961</td>\n",
       "      <td>1.390537</td>\n",
       "    </tr>\n",
       "    <tr>\n",
       "      <th>15868</th>\n",
       "      <td>1485.704528</td>\n",
       "      <td>1500.180054</td>\n",
       "      <td>0.964919</td>\n",
       "    </tr>\n",
       "    <tr>\n",
       "      <th>15869</th>\n",
       "      <td>1487.398594</td>\n",
       "      <td>1507.839966</td>\n",
       "      <td>1.355673</td>\n",
       "    </tr>\n",
       "    <tr>\n",
       "      <th>15870</th>\n",
       "      <td>1487.925094</td>\n",
       "      <td>1501.959961</td>\n",
       "      <td>0.934437</td>\n",
       "    </tr>\n",
       "    <tr>\n",
       "      <th>15871</th>\n",
       "      <td>1490.671562</td>\n",
       "      <td>1498.109985</td>\n",
       "      <td>0.496521</td>\n",
       "    </tr>\n",
       "    <tr>\n",
       "      <th>15872</th>\n",
       "      <td>1489.749122</td>\n",
       "      <td>1513.170044</td>\n",
       "      <td>1.547805</td>\n",
       "    </tr>\n",
       "    <tr>\n",
       "      <th>15873</th>\n",
       "      <td>1491.385667</td>\n",
       "      <td>1495.709961</td>\n",
       "      <td>0.289113</td>\n",
       "    </tr>\n",
       "    <tr>\n",
       "      <th>15874</th>\n",
       "      <td>1492.640376</td>\n",
       "      <td>1511.290039</td>\n",
       "      <td>1.234023</td>\n",
       "    </tr>\n",
       "    <tr>\n",
       "      <th>15875</th>\n",
       "      <td>1495.300462</td>\n",
       "      <td>1512.119995</td>\n",
       "      <td>1.112315</td>\n",
       "    </tr>\n",
       "  </tbody>\n",
       "</table>\n",
       "</div>"
      ],
      "text/plain": [
       "       PredictedClose        Close  Error, %\n",
       "15851     1452.362944  1462.420044  0.687703\n",
       "15852     1455.288112  1459.369995  0.279702\n",
       "15853     1458.320010  1466.469971  0.555754\n",
       "15854     1461.168099  1461.890015  0.049382\n",
       "15855     1464.216205  1457.150024  0.484932\n",
       "15856     1462.796492  1461.020020  0.121591\n",
       "15857     1462.376558  1472.119995  0.661864\n",
       "15858     1460.713718  1472.050049  0.770105\n",
       "15859     1462.974936  1470.680054  0.523915\n",
       "15860     1458.829998  1472.339966  0.917585\n",
       "15861     1456.980887  1472.630005  1.062665\n",
       "15862     1459.670835  1480.939941  1.436190\n",
       "15863     1463.161382  1485.979980  1.535593\n",
       "15864     1470.101754  1492.560059  1.504684\n",
       "15865     1478.669803  1494.810059  1.079753\n",
       "15866     1479.408179  1494.819946  1.031012\n",
       "15867     1482.060747  1502.959961  1.390537\n",
       "15868     1485.704528  1500.180054  0.964919\n",
       "15869     1487.398594  1507.839966  1.355673\n",
       "15870     1487.925094  1501.959961  0.934437\n",
       "15871     1490.671562  1498.109985  0.496521\n",
       "15872     1489.749122  1513.170044  1.547805\n",
       "15873     1491.385667  1495.709961  0.289113\n",
       "15874     1492.640376  1511.290039  1.234023\n",
       "15875     1495.300462  1512.119995  1.112315"
      ]
     },
     "execution_count": 30,
     "metadata": {},
     "output_type": "execute_result"
    }
   ],
   "source": [
    "check_df.head(25)"
   ]
  },
  {
   "cell_type": "markdown",
   "metadata": {},
   "source": [
    "# 1.45 % average error. Not bad at all"
   ]
  },
  {
   "cell_type": "markdown",
   "metadata": {},
   "source": [
    "Let's explore errors further"
   ]
  },
  {
   "cell_type": "code",
   "execution_count": 32,
   "metadata": {},
   "outputs": [
    {
     "data": {
      "text/html": [
       "<div>\n",
       "<style>\n",
       "    .dataframe thead tr:only-child th {\n",
       "        text-align: right;\n",
       "    }\n",
       "\n",
       "    .dataframe thead th {\n",
       "        text-align: left;\n",
       "    }\n",
       "\n",
       "    .dataframe tbody tr th {\n",
       "        vertical-align: top;\n",
       "    }\n",
       "</style>\n",
       "<table border=\"1\" class=\"dataframe\">\n",
       "  <thead>\n",
       "    <tr style=\"text-align: right;\">\n",
       "      <th></th>\n",
       "      <th>PredictedClose</th>\n",
       "      <th>Close</th>\n",
       "      <th>Error, %</th>\n",
       "    </tr>\n",
       "  </thead>\n",
       "  <tbody>\n",
       "    <tr>\n",
       "      <th>count</th>\n",
       "      <td>739.000000</td>\n",
       "      <td>739.000000</td>\n",
       "      <td>739.000000</td>\n",
       "    </tr>\n",
       "    <tr>\n",
       "      <th>mean</th>\n",
       "      <td>1875.416579</td>\n",
       "      <td>1874.890338</td>\n",
       "      <td>1.453202</td>\n",
       "    </tr>\n",
       "    <tr>\n",
       "      <th>std</th>\n",
       "      <td>203.373596</td>\n",
       "      <td>192.389058</td>\n",
       "      <td>1.258584</td>\n",
       "    </tr>\n",
       "    <tr>\n",
       "      <th>min</th>\n",
       "      <td>1452.362944</td>\n",
       "      <td>1457.150024</td>\n",
       "      <td>0.001002</td>\n",
       "    </tr>\n",
       "    <tr>\n",
       "      <th>25%</th>\n",
       "      <td>1687.616500</td>\n",
       "      <td>1697.450012</td>\n",
       "      <td>0.565138</td>\n",
       "    </tr>\n",
       "    <tr>\n",
       "      <th>50%</th>\n",
       "      <td>1931.645719</td>\n",
       "      <td>1920.239990</td>\n",
       "      <td>1.210973</td>\n",
       "    </tr>\n",
       "    <tr>\n",
       "      <th>75%</th>\n",
       "      <td>2048.249748</td>\n",
       "      <td>2052.165039</td>\n",
       "      <td>2.046506</td>\n",
       "    </tr>\n",
       "    <tr>\n",
       "      <th>max</th>\n",
       "      <td>2145.345516</td>\n",
       "      <td>2130.820068</td>\n",
       "      <td>12.922934</td>\n",
       "    </tr>\n",
       "  </tbody>\n",
       "</table>\n",
       "</div>"
      ],
      "text/plain": [
       "       PredictedClose        Close    Error, %\n",
       "count      739.000000   739.000000  739.000000\n",
       "mean      1875.416579  1874.890338    1.453202\n",
       "std        203.373596   192.389058    1.258584\n",
       "min       1452.362944  1457.150024    0.001002\n",
       "25%       1687.616500  1697.450012    0.565138\n",
       "50%       1931.645719  1920.239990    1.210973\n",
       "75%       2048.249748  2052.165039    2.046506\n",
       "max       2145.345516  2130.820068   12.922934"
      ]
     },
     "execution_count": 32,
     "metadata": {},
     "output_type": "execute_result"
    }
   ],
   "source": [
    "check_df.describe()"
   ]
  },
  {
   "cell_type": "code",
   "execution_count": 41,
   "metadata": {},
   "outputs": [
    {
     "name": "stdout",
     "output_type": "stream",
     "text": [
      "       PredictedClose        Close   Error, %\n",
      "16517     2108.959984  1867.609985  12.922934\n"
     ]
    }
   ],
   "source": [
    "max_error = check_df[check_df['Error, %'] == check_df['Error, %'].max()]\n",
    "print(max_error)"
   ]
  },
  {
   "cell_type": "code",
   "execution_count": 47,
   "metadata": {},
   "outputs": [
    {
     "data": {
      "text/plain": [
       "Date               2015-08-25 00:00:00\n",
       "Open                           1898.08\n",
       "High                           1948.04\n",
       "Low                            1867.08\n",
       "Close                          1867.61\n",
       "Volume                     5.18356e+09\n",
       "Adj Close                      1867.61\n",
       "Close_mean_7                   2038.62\n",
       "Close_std_7                    79.2595\n",
       "Close_var_7                    6282.06\n",
       "Close_mean_14                   2063.5\n",
       "Close_std_14                   60.0823\n",
       "Close_var_14                   3609.89\n",
       "Close_mean_30                  2085.77\n",
       "Close_std_30                   46.9882\n",
       "Close_var_30                   2207.89\n",
       "Close_mean_180                 2079.89\n",
       "Close_std_180                  36.7927\n",
       "Close_var_180                   1353.7\n",
       "Close_mean_365                 2012.49\n",
       "Close_std_365                   83.781\n",
       "Close_var_365                  7019.25\n",
       "Volume_mean_7              3.95423e+09\n",
       "Volume_std_7               1.40989e+09\n",
       "Volume_var_7                1.9878e+18\n",
       "Volume_mean_14             3.87221e+09\n",
       "Volume_std_14              9.97384e+08\n",
       "Volume_var_14              9.94775e+17\n",
       "Volume_mean_30             3.70896e+09\n",
       "Volume_std_30              7.22186e+08\n",
       "Volume_var_30              5.21552e+17\n",
       "Volume_mean_180            3.53126e+09\n",
       "Volume_std_180             6.79412e+08\n",
       "Volume_var_180               4.616e+17\n",
       "Volume_mean_365            3.39362e+09\n",
       "Volume_std_365             6.49181e+08\n",
       "Volume_var_365             4.21436e+17\n",
       "Name: 16517, dtype: object"
      ]
     },
     "execution_count": 47,
     "metadata": {},
     "output_type": "execute_result"
    }
   ],
   "source": [
    "tw_df.loc[max_error.index].squeeze()"
   ]
  },
  {
   "cell_type": "markdown",
   "metadata": {},
   "source": [
    "Sanity check: if the model would give the close value of the previous day, how big the average error would be?"
   ]
  },
  {
   "cell_type": "code",
   "execution_count": 60,
   "metadata": {},
   "outputs": [
    {
     "name": "stdout",
     "output_type": "stream",
     "text": [
      "0.5850460333899026\n"
     ]
    }
   ],
   "source": [
    "sanity_check_df = pd.DataFrame(columns=['Predicted Close', 'Close', 'Error, %'])\n",
    "sanity_check_df['Close'] = test['Close']\n",
    "sanity_check_df['Predicted Close'] = test['Close'].shift(1)\n",
    "sanity_check_df['Error, %'] = np.abs(sanity_check_df['Predicted Close']*100/sanity_check_df['Close'] - 100)\n",
    "print(sanity_check_df['Error, %'].mean())"
   ]
  },
  {
   "cell_type": "code",
   "execution_count": 61,
   "metadata": {},
   "outputs": [
    {
     "data": {
      "text/plain": [
       "count    738.000000\n",
       "mean       0.585046\n",
       "std        0.541897\n",
       "min        0.000514\n",
       "25%        0.190492\n",
       "50%        0.440822\n",
       "75%        0.816547\n",
       "max        4.103087\n",
       "Name: Error, %, dtype: float64"
      ]
     },
     "execution_count": 61,
     "metadata": {},
     "output_type": "execute_result"
    }
   ],
   "source": [
    "sanity_check_df['Error, %'].describe()"
   ]
  },
  {
   "cell_type": "markdown",
   "metadata": {},
   "source": [
    "# Model failed to predict with better error than the sanity check model"
   ]
  },
  {
   "cell_type": "markdown",
   "metadata": {},
   "source": [
    "Since the Close value seems to be very close to the Close values for the previous days, lets try to improve model by adding data for the past several days into each row. Also lets recheck correlation matrix and let there be a higher threshold."
   ]
  },
  {
   "cell_type": "code",
   "execution_count": 77,
   "metadata": {},
   "outputs": [],
   "source": [
    "tw2_df = tw_df.copy()"
   ]
  },
  {
   "cell_type": "code",
   "execution_count": 78,
   "metadata": {},
   "outputs": [],
   "source": [
    "tw2_df['Close-1'] = tw2_df['Close'].shift(1)\n",
    "tw2_df['Close-2'] = tw2_df['Close'].shift(2)\n",
    "tw2_df['Close-3'] = tw2_df['Close'].shift(3)"
   ]
  },
  {
   "cell_type": "code",
   "execution_count": 79,
   "metadata": {},
   "outputs": [],
   "source": [
    "tw2_df['Open-Close-1'] = (tw2_df['Open'] - tw2_df['Close']).shift(1)\n",
    "tw2_df['Open-Close-2'] = (tw2_df['Open'] - tw2_df['Close']).shift(2)"
   ]
  },
  {
   "cell_type": "code",
   "execution_count": 81,
   "metadata": {},
   "outputs": [],
   "source": [
    "correlations = tw2_df.corr()['Close']"
   ]
  },
  {
   "cell_type": "code",
   "execution_count": 101,
   "metadata": {},
   "outputs": [
    {
     "data": {
      "text/plain": [
       "Open               0.999900\n",
       "High               0.999953\n",
       "Low                0.999956\n",
       "Close              1.000000\n",
       "Volume             0.772817\n",
       "Adj Close          1.000000\n",
       "Close_mean_7       0.999743\n",
       "Close_std_7        0.741346\n",
       "Close_var_7        0.414952\n",
       "Close_mean_14      0.999578\n",
       "Close_std_14       0.764517\n",
       "Close_var_14       0.444208\n",
       "Close_mean_30      0.999189\n",
       "Close_std_30       0.778583\n",
       "Close_var_30       0.462857\n",
       "Close_mean_180     0.995231\n",
       "Close_std_180      0.772385\n",
       "Close_var_180      0.451234\n",
       "Close_mean_365     0.988870\n",
       "Close_std_365      0.816103\n",
       "Close_var_365      0.569187\n",
       "Volume_mean_7      0.782221\n",
       "Volume_std_7       0.633780\n",
       "Volume_var_7       0.334966\n",
       "Volume_mean_14     0.784848\n",
       "Volume_std_14      0.663721\n",
       "Volume_var_14      0.379888\n",
       "Volume_mean_30     0.786908\n",
       "Volume_std_30      0.684340\n",
       "Volume_var_30      0.407893\n",
       "Volume_mean_180    0.785872\n",
       "Volume_std_180     0.696843\n",
       "Volume_var_180     0.443765\n",
       "Volume_mean_365    0.784878\n",
       "Volume_std_365     0.684141\n",
       "Volume_var_365     0.441265\n",
       "Close-1            0.999894\n",
       "Close-2            0.999798\n",
       "Close-3            0.999711\n",
       "Open-Close-1      -0.021679\n",
       "Open-Close-2      -0.020298\n",
       "Name: Close, dtype: float64"
      ]
     },
     "execution_count": 101,
     "metadata": {},
     "output_type": "execute_result"
    }
   ],
   "source": [
    "correlations"
   ]
  },
  {
   "cell_type": "code",
   "execution_count": 318,
   "metadata": {},
   "outputs": [],
   "source": [
    "features = correlations[correlations.abs() > 0.6].index.tolist()"
   ]
  },
  {
   "cell_type": "code",
   "execution_count": 319,
   "metadata": {},
   "outputs": [],
   "source": [
    "features.remove('Open')\n",
    "features.remove('High')\n",
    "features.remove('Low')\n",
    "features.remove('Close')\n",
    "features.remove('Adj Close')"
   ]
  },
  {
   "cell_type": "code",
   "execution_count": 320,
   "metadata": {},
   "outputs": [
    {
     "data": {
      "text/plain": [
       "['Volume',\n",
       " 'Close_mean_7',\n",
       " 'Close_std_7',\n",
       " 'Close_mean_14',\n",
       " 'Close_std_14',\n",
       " 'Close_mean_30',\n",
       " 'Close_std_30',\n",
       " 'Close_mean_180',\n",
       " 'Close_std_180',\n",
       " 'Close_mean_365',\n",
       " 'Close_std_365',\n",
       " 'Volume_mean_7',\n",
       " 'Volume_std_7',\n",
       " 'Volume_mean_14',\n",
       " 'Volume_std_14',\n",
       " 'Volume_mean_30',\n",
       " 'Volume_std_30',\n",
       " 'Volume_mean_180',\n",
       " 'Volume_std_180',\n",
       " 'Volume_mean_365',\n",
       " 'Volume_std_365',\n",
       " 'Close-1',\n",
       " 'Close-2',\n",
       " 'Close-3']"
      ]
     },
     "execution_count": 320,
     "metadata": {},
     "output_type": "execute_result"
    }
   ],
   "source": [
    "features"
   ]
  },
  {
   "cell_type": "code",
   "execution_count": 222,
   "metadata": {},
   "outputs": [],
   "source": [
    "tw2_df = tw2_df.dropna(axis=0)"
   ]
  },
  {
   "cell_type": "code",
   "execution_count": 223,
   "metadata": {},
   "outputs": [],
   "source": [
    "train = tw2_df[tw2_df[\"Date\"] < datetime(year=2013, month=1, day=1)]\n",
    "test = tw2_df[tw2_df[\"Date\"] >= datetime(year=2013, month=1, day=1)]"
   ]
  },
  {
   "cell_type": "code",
   "execution_count": 224,
   "metadata": {},
   "outputs": [
    {
     "name": "stdout",
     "output_type": "stream",
     "text": [
      "RMSE TRAIN AND TEST:\n",
      "7.5650945549 14.9950316861\n",
      "AVERAGE ERROR: 0.577996881035828\n",
      "       PredictedClose        Close      Close-1      Close-2      Close-3  \\\n",
      "15851     1425.647886  1462.420044  1426.189941  1402.430054  1418.099976   \n",
      "15852     1459.944635  1459.369995  1462.420044  1426.189941  1402.430054   \n",
      "15853     1458.924864  1466.469971  1459.369995  1462.420044  1426.189941   \n",
      "15854     1465.956896  1461.890015  1466.469971  1459.369995  1462.420044   \n",
      "15855     1461.356034  1457.150024  1461.890015  1466.469971  1459.369995   \n",
      "15856     1456.934537  1461.020020  1457.150024  1461.890015  1466.469971   \n",
      "15857     1458.836258  1472.119995  1461.020020  1457.150024  1461.890015   \n",
      "15858     1469.433237  1472.050049  1472.119995  1461.020020  1457.150024   \n",
      "15859     1470.264041  1470.680054  1472.050049  1472.119995  1461.020020   \n",
      "15860     1469.444196  1472.339966  1470.680054  1472.050049  1472.119995   \n",
      "\n",
      "            Date  Error, %  Error, val  \n",
      "15851 2013-01-02  2.514473  -36.772158  \n",
      "15852 2013-01-03  0.039376    0.574640  \n",
      "15853 2013-01-04  0.514508   -7.545107  \n",
      "15854 2013-01-07  0.278193    4.066881  \n",
      "15855 2013-01-08  0.288646    4.206010  \n",
      "15856 2013-01-09  0.279632   -4.085483  \n",
      "15857 2013-01-10  0.902354  -13.283737  \n",
      "15858 2013-01-11  0.177767   -2.616812  \n",
      "15859 2013-01-14  0.028287   -0.416013  \n",
      "15860 2013-01-15  0.196678   -2.895770  \n"
     ]
    }
   ],
   "source": [
    "lr, check_df = test_model(train, test, features, 'Close')"
   ]
  },
  {
   "cell_type": "code",
   "execution_count": 225,
   "metadata": {},
   "outputs": [
    {
     "data": {
      "text/plain": [
       "count    739.000000\n",
       "mean       0.577997\n",
       "std        0.544528\n",
       "min        0.000659\n",
       "25%        0.174984\n",
       "50%        0.431790\n",
       "75%        0.808005\n",
       "max        4.441783\n",
       "Name: Error, %, dtype: float64"
      ]
     },
     "execution_count": 225,
     "metadata": {},
     "output_type": "execute_result"
    }
   ],
   "source": [
    "check_df['Error, %'].describe()"
   ]
  },
  {
   "cell_type": "markdown",
   "metadata": {},
   "source": [
    "# 0.578 % Error. Much better, beat the simpleton model error (0.585%)."
   ]
  },
  {
   "cell_type": "markdown",
   "metadata": {},
   "source": [
    "Got to explore errors further, especially in context of the previous values used"
   ]
  },
  {
   "cell_type": "code",
   "execution_count": 226,
   "metadata": {},
   "outputs": [
    {
     "data": {
      "text/html": [
       "<div>\n",
       "<style>\n",
       "    .dataframe thead tr:only-child th {\n",
       "        text-align: right;\n",
       "    }\n",
       "\n",
       "    .dataframe thead th {\n",
       "        text-align: left;\n",
       "    }\n",
       "\n",
       "    .dataframe tbody tr th {\n",
       "        vertical-align: top;\n",
       "    }\n",
       "</style>\n",
       "<table border=\"1\" class=\"dataframe\">\n",
       "  <thead>\n",
       "    <tr style=\"text-align: right;\">\n",
       "      <th></th>\n",
       "      <th>PredictedClose</th>\n",
       "      <th>Close</th>\n",
       "      <th>Close-1</th>\n",
       "      <th>Close-2</th>\n",
       "      <th>Close-3</th>\n",
       "      <th>Date</th>\n",
       "      <th>Error, %</th>\n",
       "      <th>Error, val</th>\n",
       "    </tr>\n",
       "  </thead>\n",
       "  <tbody>\n",
       "    <tr>\n",
       "      <th>15851</th>\n",
       "      <td>1425.647886</td>\n",
       "      <td>1462.420044</td>\n",
       "      <td>1426.189941</td>\n",
       "      <td>1402.430054</td>\n",
       "      <td>1418.099976</td>\n",
       "      <td>2013-01-02</td>\n",
       "      <td>2.514473</td>\n",
       "      <td>-36.772158</td>\n",
       "    </tr>\n",
       "    <tr>\n",
       "      <th>15852</th>\n",
       "      <td>1459.944635</td>\n",
       "      <td>1459.369995</td>\n",
       "      <td>1462.420044</td>\n",
       "      <td>1426.189941</td>\n",
       "      <td>1402.430054</td>\n",
       "      <td>2013-01-03</td>\n",
       "      <td>0.039376</td>\n",
       "      <td>0.574640</td>\n",
       "    </tr>\n",
       "    <tr>\n",
       "      <th>15853</th>\n",
       "      <td>1458.924864</td>\n",
       "      <td>1466.469971</td>\n",
       "      <td>1459.369995</td>\n",
       "      <td>1462.420044</td>\n",
       "      <td>1426.189941</td>\n",
       "      <td>2013-01-04</td>\n",
       "      <td>0.514508</td>\n",
       "      <td>-7.545107</td>\n",
       "    </tr>\n",
       "    <tr>\n",
       "      <th>15854</th>\n",
       "      <td>1465.956896</td>\n",
       "      <td>1461.890015</td>\n",
       "      <td>1466.469971</td>\n",
       "      <td>1459.369995</td>\n",
       "      <td>1462.420044</td>\n",
       "      <td>2013-01-07</td>\n",
       "      <td>0.278193</td>\n",
       "      <td>4.066881</td>\n",
       "    </tr>\n",
       "    <tr>\n",
       "      <th>15855</th>\n",
       "      <td>1461.356034</td>\n",
       "      <td>1457.150024</td>\n",
       "      <td>1461.890015</td>\n",
       "      <td>1466.469971</td>\n",
       "      <td>1459.369995</td>\n",
       "      <td>2013-01-08</td>\n",
       "      <td>0.288646</td>\n",
       "      <td>4.206010</td>\n",
       "    </tr>\n",
       "    <tr>\n",
       "      <th>15856</th>\n",
       "      <td>1456.934537</td>\n",
       "      <td>1461.020020</td>\n",
       "      <td>1457.150024</td>\n",
       "      <td>1461.890015</td>\n",
       "      <td>1466.469971</td>\n",
       "      <td>2013-01-09</td>\n",
       "      <td>0.279632</td>\n",
       "      <td>-4.085483</td>\n",
       "    </tr>\n",
       "    <tr>\n",
       "      <th>15857</th>\n",
       "      <td>1458.836258</td>\n",
       "      <td>1472.119995</td>\n",
       "      <td>1461.020020</td>\n",
       "      <td>1457.150024</td>\n",
       "      <td>1461.890015</td>\n",
       "      <td>2013-01-10</td>\n",
       "      <td>0.902354</td>\n",
       "      <td>-13.283737</td>\n",
       "    </tr>\n",
       "    <tr>\n",
       "      <th>15858</th>\n",
       "      <td>1469.433237</td>\n",
       "      <td>1472.050049</td>\n",
       "      <td>1472.119995</td>\n",
       "      <td>1461.020020</td>\n",
       "      <td>1457.150024</td>\n",
       "      <td>2013-01-11</td>\n",
       "      <td>0.177767</td>\n",
       "      <td>-2.616812</td>\n",
       "    </tr>\n",
       "    <tr>\n",
       "      <th>15859</th>\n",
       "      <td>1470.264041</td>\n",
       "      <td>1470.680054</td>\n",
       "      <td>1472.050049</td>\n",
       "      <td>1472.119995</td>\n",
       "      <td>1461.020020</td>\n",
       "      <td>2013-01-14</td>\n",
       "      <td>0.028287</td>\n",
       "      <td>-0.416013</td>\n",
       "    </tr>\n",
       "    <tr>\n",
       "      <th>15860</th>\n",
       "      <td>1469.444196</td>\n",
       "      <td>1472.339966</td>\n",
       "      <td>1470.680054</td>\n",
       "      <td>1472.050049</td>\n",
       "      <td>1472.119995</td>\n",
       "      <td>2013-01-15</td>\n",
       "      <td>0.196678</td>\n",
       "      <td>-2.895770</td>\n",
       "    </tr>\n",
       "  </tbody>\n",
       "</table>\n",
       "</div>"
      ],
      "text/plain": [
       "       PredictedClose        Close      Close-1      Close-2      Close-3  \\\n",
       "15851     1425.647886  1462.420044  1426.189941  1402.430054  1418.099976   \n",
       "15852     1459.944635  1459.369995  1462.420044  1426.189941  1402.430054   \n",
       "15853     1458.924864  1466.469971  1459.369995  1462.420044  1426.189941   \n",
       "15854     1465.956896  1461.890015  1466.469971  1459.369995  1462.420044   \n",
       "15855     1461.356034  1457.150024  1461.890015  1466.469971  1459.369995   \n",
       "15856     1456.934537  1461.020020  1457.150024  1461.890015  1466.469971   \n",
       "15857     1458.836258  1472.119995  1461.020020  1457.150024  1461.890015   \n",
       "15858     1469.433237  1472.050049  1472.119995  1461.020020  1457.150024   \n",
       "15859     1470.264041  1470.680054  1472.050049  1472.119995  1461.020020   \n",
       "15860     1469.444196  1472.339966  1470.680054  1472.050049  1472.119995   \n",
       "\n",
       "            Date  Error, %  Error, val  \n",
       "15851 2013-01-02  2.514473  -36.772158  \n",
       "15852 2013-01-03  0.039376    0.574640  \n",
       "15853 2013-01-04  0.514508   -7.545107  \n",
       "15854 2013-01-07  0.278193    4.066881  \n",
       "15855 2013-01-08  0.288646    4.206010  \n",
       "15856 2013-01-09  0.279632   -4.085483  \n",
       "15857 2013-01-10  0.902354  -13.283737  \n",
       "15858 2013-01-11  0.177767   -2.616812  \n",
       "15859 2013-01-14  0.028287   -0.416013  \n",
       "15860 2013-01-15  0.196678   -2.895770  "
      ]
     },
     "execution_count": 226,
     "metadata": {},
     "output_type": "execute_result"
    }
   ],
   "source": [
    "check_df.head(10)"
   ]
  },
  {
   "cell_type": "code",
   "execution_count": 227,
   "metadata": {},
   "outputs": [
    {
     "data": {
      "text/html": [
       "<div>\n",
       "<style>\n",
       "    .dataframe thead tr:only-child th {\n",
       "        text-align: right;\n",
       "    }\n",
       "\n",
       "    .dataframe thead th {\n",
       "        text-align: left;\n",
       "    }\n",
       "\n",
       "    .dataframe tbody tr th {\n",
       "        vertical-align: top;\n",
       "    }\n",
       "</style>\n",
       "<table border=\"1\" class=\"dataframe\">\n",
       "  <thead>\n",
       "    <tr style=\"text-align: right;\">\n",
       "      <th></th>\n",
       "      <th>PredictedClose</th>\n",
       "      <th>Close</th>\n",
       "      <th>Close-1</th>\n",
       "      <th>Close-2</th>\n",
       "      <th>Close-3</th>\n",
       "      <th>Date</th>\n",
       "      <th>Error, %</th>\n",
       "      <th>Error, val</th>\n",
       "    </tr>\n",
       "  </thead>\n",
       "  <tbody>\n",
       "    <tr>\n",
       "      <th>16580</th>\n",
       "      <td>2088.849327</td>\n",
       "      <td>2086.590088</td>\n",
       "      <td>2089.169922</td>\n",
       "      <td>2081.239990</td>\n",
       "      <td>2083.580078</td>\n",
       "      <td>2015-11-23</td>\n",
       "      <td>0.108274</td>\n",
       "      <td>2.259239</td>\n",
       "    </tr>\n",
       "    <tr>\n",
       "      <th>16581</th>\n",
       "      <td>2086.359226</td>\n",
       "      <td>2089.139893</td>\n",
       "      <td>2086.590088</td>\n",
       "      <td>2089.169922</td>\n",
       "      <td>2081.239990</td>\n",
       "      <td>2015-11-24</td>\n",
       "      <td>0.133101</td>\n",
       "      <td>-2.780667</td>\n",
       "    </tr>\n",
       "    <tr>\n",
       "      <th>16582</th>\n",
       "      <td>2089.666591</td>\n",
       "      <td>2088.870117</td>\n",
       "      <td>2089.139893</td>\n",
       "      <td>2086.590088</td>\n",
       "      <td>2089.169922</td>\n",
       "      <td>2015-11-25</td>\n",
       "      <td>0.038129</td>\n",
       "      <td>0.796474</td>\n",
       "    </tr>\n",
       "    <tr>\n",
       "      <th>16583</th>\n",
       "      <td>2090.888971</td>\n",
       "      <td>2090.110107</td>\n",
       "      <td>2088.870117</td>\n",
       "      <td>2089.139893</td>\n",
       "      <td>2086.590088</td>\n",
       "      <td>2015-11-27</td>\n",
       "      <td>0.037264</td>\n",
       "      <td>0.778864</td>\n",
       "    </tr>\n",
       "    <tr>\n",
       "      <th>16584</th>\n",
       "      <td>2087.900723</td>\n",
       "      <td>2080.409912</td>\n",
       "      <td>2090.110107</td>\n",
       "      <td>2088.870117</td>\n",
       "      <td>2089.139893</td>\n",
       "      <td>2015-11-30</td>\n",
       "      <td>0.360064</td>\n",
       "      <td>7.490811</td>\n",
       "    </tr>\n",
       "    <tr>\n",
       "      <th>16585</th>\n",
       "      <td>2079.673737</td>\n",
       "      <td>2102.629883</td>\n",
       "      <td>2080.409912</td>\n",
       "      <td>2090.110107</td>\n",
       "      <td>2088.870117</td>\n",
       "      <td>2015-12-01</td>\n",
       "      <td>1.091783</td>\n",
       "      <td>-22.956146</td>\n",
       "    </tr>\n",
       "    <tr>\n",
       "      <th>16586</th>\n",
       "      <td>2099.867933</td>\n",
       "      <td>2079.510010</td>\n",
       "      <td>2102.629883</td>\n",
       "      <td>2080.409912</td>\n",
       "      <td>2090.110107</td>\n",
       "      <td>2015-12-02</td>\n",
       "      <td>0.978977</td>\n",
       "      <td>20.357923</td>\n",
       "    </tr>\n",
       "    <tr>\n",
       "      <th>16587</th>\n",
       "      <td>2078.431966</td>\n",
       "      <td>2049.620117</td>\n",
       "      <td>2079.510010</td>\n",
       "      <td>2102.629883</td>\n",
       "      <td>2080.409912</td>\n",
       "      <td>2015-12-03</td>\n",
       "      <td>1.405717</td>\n",
       "      <td>28.811849</td>\n",
       "    </tr>\n",
       "    <tr>\n",
       "      <th>16588</th>\n",
       "      <td>2051.474556</td>\n",
       "      <td>2091.689941</td>\n",
       "      <td>2049.620117</td>\n",
       "      <td>2079.510010</td>\n",
       "      <td>2102.629883</td>\n",
       "      <td>2015-12-04</td>\n",
       "      <td>1.922626</td>\n",
       "      <td>-40.215385</td>\n",
       "    </tr>\n",
       "    <tr>\n",
       "      <th>16589</th>\n",
       "      <td>2089.399647</td>\n",
       "      <td>2077.070068</td>\n",
       "      <td>2091.689941</td>\n",
       "      <td>2049.620117</td>\n",
       "      <td>2079.510010</td>\n",
       "      <td>2015-12-07</td>\n",
       "      <td>0.593604</td>\n",
       "      <td>12.329579</td>\n",
       "    </tr>\n",
       "  </tbody>\n",
       "</table>\n",
       "</div>"
      ],
      "text/plain": [
       "       PredictedClose        Close      Close-1      Close-2      Close-3  \\\n",
       "16580     2088.849327  2086.590088  2089.169922  2081.239990  2083.580078   \n",
       "16581     2086.359226  2089.139893  2086.590088  2089.169922  2081.239990   \n",
       "16582     2089.666591  2088.870117  2089.139893  2086.590088  2089.169922   \n",
       "16583     2090.888971  2090.110107  2088.870117  2089.139893  2086.590088   \n",
       "16584     2087.900723  2080.409912  2090.110107  2088.870117  2089.139893   \n",
       "16585     2079.673737  2102.629883  2080.409912  2090.110107  2088.870117   \n",
       "16586     2099.867933  2079.510010  2102.629883  2080.409912  2090.110107   \n",
       "16587     2078.431966  2049.620117  2079.510010  2102.629883  2080.409912   \n",
       "16588     2051.474556  2091.689941  2049.620117  2079.510010  2102.629883   \n",
       "16589     2089.399647  2077.070068  2091.689941  2049.620117  2079.510010   \n",
       "\n",
       "            Date  Error, %  Error, val  \n",
       "16580 2015-11-23  0.108274    2.259239  \n",
       "16581 2015-11-24  0.133101   -2.780667  \n",
       "16582 2015-11-25  0.038129    0.796474  \n",
       "16583 2015-11-27  0.037264    0.778864  \n",
       "16584 2015-11-30  0.360064    7.490811  \n",
       "16585 2015-12-01  1.091783  -22.956146  \n",
       "16586 2015-12-02  0.978977   20.357923  \n",
       "16587 2015-12-03  1.405717   28.811849  \n",
       "16588 2015-12-04  1.922626  -40.215385  \n",
       "16589 2015-12-07  0.593604   12.329579  "
      ]
     },
     "execution_count": 227,
     "metadata": {},
     "output_type": "execute_result"
    }
   ],
   "source": [
    "check_df.tail(10)"
   ]
  },
  {
   "cell_type": "code",
   "execution_count": 228,
   "metadata": {},
   "outputs": [
    {
     "data": {
      "text/plain": [
       "count    739.000000\n",
       "mean      -0.117993\n",
       "std       15.004723\n",
       "min      -60.536161\n",
       "25%       -8.384511\n",
       "50%       -0.846253\n",
       "75%        7.373025\n",
       "max       84.092277\n",
       "Name: Error, val, dtype: float64"
      ]
     },
     "execution_count": 228,
     "metadata": {},
     "output_type": "execute_result"
    }
   ],
   "source": [
    "check_df['Error, val'].describe()"
   ]
  },
  {
   "cell_type": "code",
   "execution_count": 229,
   "metadata": {},
   "outputs": [],
   "source": [
    "import matplotlib.pyplot as plt\n",
    "\n",
    "%matplotlib inline"
   ]
  },
  {
   "cell_type": "code",
   "execution_count": 230,
   "metadata": {},
   "outputs": [
    {
     "data": {
      "image/png": "[encoded data removed]",
      "text/plain": [
       "<matplotlib.figure.Figure at 0xc8228c84a8>"
      ]
     },
     "metadata": {
      "needs_background": "light"
     },
     "output_type": "display_data"
    }
   ],
   "source": [
    "plt.plot(check_df['Date'], check_df['Error, val'])\n",
    "plt.show()"
   ]
  },
  {
   "cell_type": "code",
   "execution_count": 233,
   "metadata": {},
   "outputs": [
    {
     "data": {
      "image/png": "[encoded data removed]",
      "text/plain": [
       "<matplotlib.figure.Figure at 0xc82276b6d8>"
      ]
     },
     "metadata": {
      "needs_background": "light"
     },
     "output_type": "display_data"
    }
   ],
   "source": [
    "plt.plot(check_df['Date'], check_df['Error, %'])\n",
    "plt.show()"
   ]
  },
  {
   "cell_type": "markdown",
   "metadata": {},
   "source": [
    "Let's explore the biggest errors in test set"
   ]
  },
  {
   "cell_type": "code",
   "execution_count": 236,
   "metadata": {},
   "outputs": [],
   "source": [
    "check_df = check_df.sort_values(by=['Error, %'], ascending=False)"
   ]
  },
  {
   "cell_type": "code",
   "execution_count": 289,
   "metadata": {},
   "outputs": [],
   "source": [
    "top_errors = check_df.iloc[:20]"
   ]
  },
  {
   "cell_type": "code",
   "execution_count": 290,
   "metadata": {},
   "outputs": [
    {
     "data": {
      "text/html": [
       "<div>\n",
       "<style>\n",
       "    .dataframe thead tr:only-child th {\n",
       "        text-align: right;\n",
       "    }\n",
       "\n",
       "    .dataframe thead th {\n",
       "        text-align: left;\n",
       "    }\n",
       "\n",
       "    .dataframe tbody tr th {\n",
       "        vertical-align: top;\n",
       "    }\n",
       "</style>\n",
       "<table border=\"1\" class=\"dataframe\">\n",
       "  <thead>\n",
       "    <tr style=\"text-align: right;\">\n",
       "      <th></th>\n",
       "      <th>PredictedClose</th>\n",
       "      <th>Close</th>\n",
       "      <th>Close-1</th>\n",
       "      <th>Close-2</th>\n",
       "      <th>Close-3</th>\n",
       "      <th>Date</th>\n",
       "      <th>Error, %</th>\n",
       "      <th>Error, val</th>\n",
       "    </tr>\n",
       "  </thead>\n",
       "  <tbody>\n",
       "    <tr>\n",
       "      <th>16516</th>\n",
       "      <td>1977.302238</td>\n",
       "      <td>1893.209961</td>\n",
       "      <td>1970.890015</td>\n",
       "      <td>2035.729980</td>\n",
       "      <td>2079.610107</td>\n",
       "      <td>2015-08-24</td>\n",
       "      <td>4.441783</td>\n",
       "      <td>84.092277</td>\n",
       "    </tr>\n",
       "    <tr>\n",
       "      <th>16515</th>\n",
       "      <td>2038.798370</td>\n",
       "      <td>1970.890015</td>\n",
       "      <td>2035.729980</td>\n",
       "      <td>2079.610107</td>\n",
       "      <td>2096.919922</td>\n",
       "      <td>2015-08-21</td>\n",
       "      <td>3.445568</td>\n",
       "      <td>67.908355</td>\n",
       "    </tr>\n",
       "    <tr>\n",
       "      <th>16518</th>\n",
       "      <td>1879.973849</td>\n",
       "      <td>1940.510010</td>\n",
       "      <td>1867.609985</td>\n",
       "      <td>1893.209961</td>\n",
       "      <td>1970.890015</td>\n",
       "      <td>2015-08-26</td>\n",
       "      <td>3.119601</td>\n",
       "      <td>-60.536161</td>\n",
       "    </tr>\n",
       "    <tr>\n",
       "      <th>16522</th>\n",
       "      <td>1973.430723</td>\n",
       "      <td>1913.849976</td>\n",
       "      <td>1972.180054</td>\n",
       "      <td>1988.869995</td>\n",
       "      <td>1987.660034</td>\n",
       "      <td>2015-09-01</td>\n",
       "      <td>3.113136</td>\n",
       "      <td>59.580747</td>\n",
       "    </tr>\n",
       "    <tr>\n",
       "      <th>16540</th>\n",
       "      <td>1931.659780</td>\n",
       "      <td>1881.770020</td>\n",
       "      <td>1931.339966</td>\n",
       "      <td>1932.239990</td>\n",
       "      <td>1938.760010</td>\n",
       "      <td>2015-09-28</td>\n",
       "      <td>2.651215</td>\n",
       "      <td>49.889760</td>\n",
       "    </tr>\n",
       "    <tr>\n",
       "      <th>15968</th>\n",
       "      <td>1630.186837</td>\n",
       "      <td>1588.189941</td>\n",
       "      <td>1628.930054</td>\n",
       "      <td>1651.810059</td>\n",
       "      <td>1639.040039</td>\n",
       "      <td>2013-06-20</td>\n",
       "      <td>2.644325</td>\n",
       "      <td>41.996896</td>\n",
       "    </tr>\n",
       "    <tr>\n",
       "      <th>15851</th>\n",
       "      <td>1425.647886</td>\n",
       "      <td>1462.420044</td>\n",
       "      <td>1426.189941</td>\n",
       "      <td>1402.430054</td>\n",
       "      <td>1418.099976</td>\n",
       "      <td>2013-01-02</td>\n",
       "      <td>2.514473</td>\n",
       "      <td>-36.772158</td>\n",
       "    </tr>\n",
       "    <tr>\n",
       "      <th>16346</th>\n",
       "      <td>2011.418048</td>\n",
       "      <td>2061.229980</td>\n",
       "      <td>2012.890015</td>\n",
       "      <td>1972.739990</td>\n",
       "      <td>1989.630005</td>\n",
       "      <td>2014-12-18</td>\n",
       "      <td>2.416612</td>\n",
       "      <td>-49.811932</td>\n",
       "    </tr>\n",
       "    <tr>\n",
       "      <th>16124</th>\n",
       "      <td>1783.281703</td>\n",
       "      <td>1741.890015</td>\n",
       "      <td>1782.589966</td>\n",
       "      <td>1794.189941</td>\n",
       "      <td>1774.199951</td>\n",
       "      <td>2014-02-03</td>\n",
       "      <td>2.376252</td>\n",
       "      <td>41.391688</td>\n",
       "    </tr>\n",
       "    <tr>\n",
       "      <th>15921</th>\n",
       "      <td>1588.052334</td>\n",
       "      <td>1552.359985</td>\n",
       "      <td>1588.849976</td>\n",
       "      <td>1593.369995</td>\n",
       "      <td>1587.729980</td>\n",
       "      <td>2013-04-15</td>\n",
       "      <td>2.299231</td>\n",
       "      <td>35.692349</td>\n",
       "    </tr>\n",
       "    <tr>\n",
       "      <th>16526</th>\n",
       "      <td>1925.128816</td>\n",
       "      <td>1969.410034</td>\n",
       "      <td>1921.219971</td>\n",
       "      <td>1951.130005</td>\n",
       "      <td>1948.859985</td>\n",
       "      <td>2015-09-08</td>\n",
       "      <td>2.248451</td>\n",
       "      <td>-44.281218</td>\n",
       "    </tr>\n",
       "    <tr>\n",
       "      <th>16519</th>\n",
       "      <td>1943.631562</td>\n",
       "      <td>1987.660034</td>\n",
       "      <td>1940.510010</td>\n",
       "      <td>1867.609985</td>\n",
       "      <td>1893.209961</td>\n",
       "      <td>2015-08-27</td>\n",
       "      <td>2.215091</td>\n",
       "      <td>-44.028472</td>\n",
       "    </tr>\n",
       "    <tr>\n",
       "      <th>16514</th>\n",
       "      <td>2080.281958</td>\n",
       "      <td>2035.729980</td>\n",
       "      <td>2079.610107</td>\n",
       "      <td>2096.919922</td>\n",
       "      <td>2102.439941</td>\n",
       "      <td>2015-08-20</td>\n",
       "      <td>2.188501</td>\n",
       "      <td>44.551978</td>\n",
       "    </tr>\n",
       "    <tr>\n",
       "      <th>16118</th>\n",
       "      <td>1828.700831</td>\n",
       "      <td>1790.290039</td>\n",
       "      <td>1828.459961</td>\n",
       "      <td>1844.859985</td>\n",
       "      <td>1843.800049</td>\n",
       "      <td>2014-01-24</td>\n",
       "      <td>2.145507</td>\n",
       "      <td>38.410792</td>\n",
       "    </tr>\n",
       "    <tr>\n",
       "      <th>16477</th>\n",
       "      <td>2101.520869</td>\n",
       "      <td>2057.639893</td>\n",
       "      <td>2101.489990</td>\n",
       "      <td>2102.310059</td>\n",
       "      <td>2108.580078</td>\n",
       "      <td>2015-06-29</td>\n",
       "      <td>2.132588</td>\n",
       "      <td>43.880976</td>\n",
       "    </tr>\n",
       "    <tr>\n",
       "      <th>16171</th>\n",
       "      <td>1872.075885</td>\n",
       "      <td>1833.079956</td>\n",
       "      <td>1872.180054</td>\n",
       "      <td>1851.959961</td>\n",
       "      <td>1845.040039</td>\n",
       "      <td>2014-04-10</td>\n",
       "      <td>2.127345</td>\n",
       "      <td>38.995929</td>\n",
       "    </tr>\n",
       "    <tr>\n",
       "      <th>16517</th>\n",
       "      <td>1906.501339</td>\n",
       "      <td>1867.609985</td>\n",
       "      <td>1893.209961</td>\n",
       "      <td>1970.890015</td>\n",
       "      <td>2035.729980</td>\n",
       "      <td>2015-08-25</td>\n",
       "      <td>2.082413</td>\n",
       "      <td>38.891354</td>\n",
       "    </tr>\n",
       "    <tr>\n",
       "      <th>16248</th>\n",
       "      <td>1970.126309</td>\n",
       "      <td>1930.670044</td>\n",
       "      <td>1970.069946</td>\n",
       "      <td>1969.949951</td>\n",
       "      <td>1978.910034</td>\n",
       "      <td>2014-07-31</td>\n",
       "      <td>2.043657</td>\n",
       "      <td>39.456265</td>\n",
       "    </tr>\n",
       "    <tr>\n",
       "      <th>16297</th>\n",
       "      <td>1967.144005</td>\n",
       "      <td>1928.209961</td>\n",
       "      <td>1968.890015</td>\n",
       "      <td>1935.099976</td>\n",
       "      <td>1964.819946</td>\n",
       "      <td>2014-10-09</td>\n",
       "      <td>2.019181</td>\n",
       "      <td>38.934044</td>\n",
       "    </tr>\n",
       "    <tr>\n",
       "      <th>16305</th>\n",
       "      <td>1902.599767</td>\n",
       "      <td>1941.280029</td>\n",
       "      <td>1904.010010</td>\n",
       "      <td>1886.760010</td>\n",
       "      <td>1862.760010</td>\n",
       "      <td>2014-10-21</td>\n",
       "      <td>1.992513</td>\n",
       "      <td>-38.680262</td>\n",
       "    </tr>\n",
       "  </tbody>\n",
       "</table>\n",
       "</div>"
      ],
      "text/plain": [
       "       PredictedClose        Close      Close-1      Close-2      Close-3  \\\n",
       "16516     1977.302238  1893.209961  1970.890015  2035.729980  2079.610107   \n",
       "16515     2038.798370  1970.890015  2035.729980  2079.610107  2096.919922   \n",
       "16518     1879.973849  1940.510010  1867.609985  1893.209961  1970.890015   \n",
       "16522     1973.430723  1913.849976  1972.180054  1988.869995  1987.660034   \n",
       "16540     1931.659780  1881.770020  1931.339966  1932.239990  1938.760010   \n",
       "15968     1630.186837  1588.189941  1628.930054  1651.810059  1639.040039   \n",
       "15851     1425.647886  1462.420044  1426.189941  1402.430054  1418.099976   \n",
       "16346     2011.418048  2061.229980  2012.890015  1972.739990  1989.630005   \n",
       "16124     1783.281703  1741.890015  1782.589966  1794.189941  1774.199951   \n",
       "15921     1588.052334  1552.359985  1588.849976  1593.369995  1587.729980   \n",
       "16526     1925.128816  1969.410034  1921.219971  1951.130005  1948.859985   \n",
       "16519     1943.631562  1987.660034  1940.510010  1867.609985  1893.209961   \n",
       "16514     2080.281958  2035.729980  2079.610107  2096.919922  2102.439941   \n",
       "16118     1828.700831  1790.290039  1828.459961  1844.859985  1843.800049   \n",
       "16477     2101.520869  2057.639893  2101.489990  2102.310059  2108.580078   \n",
       "16171     1872.075885  1833.079956  1872.180054  1851.959961  1845.040039   \n",
       "16517     1906.501339  1867.609985  1893.209961  1970.890015  2035.729980   \n",
       "16248     1970.126309  1930.670044  1970.069946  1969.949951  1978.910034   \n",
       "16297     1967.144005  1928.209961  1968.890015  1935.099976  1964.819946   \n",
       "16305     1902.599767  1941.280029  1904.010010  1886.760010  1862.760010   \n",
       "\n",
       "            Date  Error, %  Error, val  \n",
       "16516 2015-08-24  4.441783   84.092277  \n",
       "16515 2015-08-21  3.445568   67.908355  \n",
       "16518 2015-08-26  3.119601  -60.536161  \n",
       "16522 2015-09-01  3.113136   59.580747  \n",
       "16540 2015-09-28  2.651215   49.889760  \n",
       "15968 2013-06-20  2.644325   41.996896  \n",
       "15851 2013-01-02  2.514473  -36.772158  \n",
       "16346 2014-12-18  2.416612  -49.811932  \n",
       "16124 2014-02-03  2.376252   41.391688  \n",
       "15921 2013-04-15  2.299231   35.692349  \n",
       "16526 2015-09-08  2.248451  -44.281218  \n",
       "16519 2015-08-27  2.215091  -44.028472  \n",
       "16514 2015-08-20  2.188501   44.551978  \n",
       "16118 2014-01-24  2.145507   38.410792  \n",
       "16477 2015-06-29  2.132588   43.880976  \n",
       "16171 2014-04-10  2.127345   38.995929  \n",
       "16517 2015-08-25  2.082413   38.891354  \n",
       "16248 2014-07-31  2.043657   39.456265  \n",
       "16297 2014-10-09  2.019181   38.934044  \n",
       "16305 2014-10-21  1.992513  -38.680262  "
      ]
     },
     "execution_count": 290,
     "metadata": {},
     "output_type": "execute_result"
    }
   ],
   "source": [
    "top_errors"
   ]
  },
  {
   "cell_type": "code",
   "execution_count": 314,
   "metadata": {
    "scrolled": false
   },
   "outputs": [],
   "source": [
    "def plot_errors(dataframe, fixed_y=True):\n",
    "    fig = plt.figure(figsize=(16, 20))\n",
    "    plt.subplots_adjust(top=2)\n",
    "    c = 1\n",
    "    for row in dataframe.iterrows():\n",
    "\n",
    "        previous_vals = []\n",
    "        for i in range(1, 10):\n",
    "            data = sorted_df.loc[row[0]-i]\n",
    "            previous_vals.append(data['Close'])\n",
    "        previous_vals.reverse()\n",
    "        actual_value = sorted_df.loc[row[0]]['Close']\n",
    "        predicted_value = row[1]['PredictedClose']\n",
    "\n",
    "        ax = fig.add_subplot(10, 4, c)\n",
    "        if fixed_y:\n",
    "            ax.set_ylim(1400,2200)\n",
    "        ax.plot([x for x in range(0, 9)], previous_vals, c='grey', linewidth=3)\n",
    "        ax.scatter([9], [predicted_value], c='r')\n",
    "        ax.scatter([9], [actual_value], c='blue')\n",
    "        ax.set_title('Error, %: ' + str(row[1]['Error, %']))\n",
    "\n",
    "        c+=1\n",
    "\n",
    "    plt.show()"
   ]
  },
  {
   "cell_type": "code",
   "execution_count": 310,
   "metadata": {},
   "outputs": [
    {
     "data": {
      "image/png": "[encoded data removed]",
      "text/plain": [
       "<matplotlib.figure.Figure at 0xc82bf6d5c0>"
      ]
     },
     "metadata": {
      "needs_background": "light"
     },
     "output_type": "display_data"
    }
   ],
   "source": [
    "plot_errors(top_errors)"
   ]
  },
  {
   "cell_type": "markdown",
   "metadata": {},
   "source": [
    "On the presented plots it is seen that model predicts values very close to the previous one, completely disregarding the slope of the curve. Further analisys required in order to understand, whether this was generally harmful or helpful and whether this requires fixing or not."
   ]
  },
  {
   "cell_type": "code",
   "execution_count": 308,
   "metadata": {},
   "outputs": [
    {
     "data": {
      "text/plain": [
       "<matplotlib.axes._subplots.AxesSubplot at 0xc82cfaa8d0>"
      ]
     },
     "execution_count": 308,
     "metadata": {},
     "output_type": "execute_result"
    },
    {
     "data": {
      "image/png": "[encoded data removed]",
      "text/plain": [
       "<matplotlib.figure.Figure at 0xc82cf3f978>"
      ]
     },
     "metadata": {
      "needs_background": "light"
     },
     "output_type": "display_data"
    }
   ],
   "source": [
    "check_df['Error, %'].hist(bins=25)"
   ]
  },
  {
   "cell_type": "markdown",
   "metadata": {},
   "source": [
    "Judging by histogram, the best course of action would be to try to fix errors from 0.2 to 1.5%"
   ]
  },
  {
   "cell_type": "code",
   "execution_count": 312,
   "metadata": {},
   "outputs": [],
   "source": [
    "def get_sample_errors(dataset, e_min, e_max):\n",
    "    filtered_df = dataset[(dataset['Error, %'] > e_min) & (dataset['Error, %'] < e_max)]\n",
    "    return filtered_df.sample(frac=1)[:20]"
   ]
  },
  {
   "cell_type": "code",
   "execution_count": 315,
   "metadata": {},
   "outputs": [
    {
     "data": {
      "image/png": "[encoded data removed]",
      "text/plain": [
       "<matplotlib.figure.Figure at 0xc82c4125c0>"
      ]
     },
     "metadata": {
      "needs_background": "light"
     },
     "output_type": "display_data"
    }
   ],
   "source": [
    "plot_errors(get_sample_errors(check_df, 0.2, 1.5), False)"
   ]
  },
  {
   "cell_type": "markdown",
   "metadata": {},
   "source": [
    "The errors we see on the plots can be fixed when the appropriate non-linear algorithm is applied. In order to solve it in the most efficient way with Linear regression, I think we should use larger time window (~10 or so days instead of 2) and the more frequently refreshed statistical info (std for the last 3, 6, 9 etc days)."
   ]
  },
  {
   "cell_type": "code",
   "execution_count": 337,
   "metadata": {},
   "outputs": [],
   "source": [
    "tw3_df = tw2_df.copy()\n",
    "features3 = features.copy()"
   ]
  },
  {
   "cell_type": "code",
   "execution_count": 338,
   "metadata": {},
   "outputs": [],
   "source": [
    "features_tw3 = []\n",
    "for i in range(1, 30):          #using time-window of 30\n",
    "    cols = ['Close', 'Open']    #add 'Open' because it could indicate whether the stocks go up or down\n",
    "    for col in cols:\n",
    "        def get_feature_name(column, index):\n",
    "            name = column + '-' + str(index)\n",
    "            features_tw3.append(name)\n",
    "            return name\n",
    "        \n",
    "        tw3_df[get_feature_name(col, i)] = tw3_df[col].shift(i)"
   ]
  },
  {
   "cell_type": "code",
   "execution_count": 339,
   "metadata": {},
   "outputs": [],
   "source": [
    "windows = [3, 7, 14, 21, 28, 60, 90, 180]\n",
    "for window in windows:\n",
    "    def get_col_name(func_name):\n",
    "        name = 'Close'+'_'+func_name+'_'+str(window)\n",
    "        features_tw3.append(name)\n",
    "        return name\n",
    "\n",
    "    tw3_df[get_col_name('mean')] = tw3_df.rolling(window=window)['Close'].mean().shift(1)\n",
    "    tw3_df[get_col_name('std')] = tw3_df.rolling(window=window)['Close'].std().shift(1)\n",
    "    tw3_df[get_col_name('var')] = tw3_df.rolling(window=window)['Close'].var().shift(1)"
   ]
  },
  {
   "cell_type": "code",
   "execution_count": 340,
   "metadata": {},
   "outputs": [],
   "source": [
    "tw3_df = tw3_df.dropna(axis=0)"
   ]
  },
  {
   "cell_type": "code",
   "execution_count": 346,
   "metadata": {},
   "outputs": [],
   "source": [
    "correlations3 = tw3_df.corr()['Close'].sort_values(ascending=False)"
   ]
  },
  {
   "cell_type": "code",
   "execution_count": 372,
   "metadata": {},
   "outputs": [],
   "source": [
    "strong_correlations3 = correlations3[correlations3.abs() > 0.7].index.tolist()"
   ]
  },
  {
   "cell_type": "code",
   "execution_count": 373,
   "metadata": {},
   "outputs": [],
   "source": [
    "strong_correlations3.remove('Open')\n",
    "strong_correlations3.remove('High')\n",
    "strong_correlations3.remove('Low')\n",
    "strong_correlations3.remove('Close')\n",
    "strong_correlations3.remove('Adj Close')"
   ]
  },
  {
   "cell_type": "code",
   "execution_count": 374,
   "metadata": {},
   "outputs": [
    {
     "name": "stdout",
     "output_type": "stream",
     "text": [
      "83\n",
      "['Close-1', 'Close_mean_3', 'Open-1', 'Close-2', 'Close_mean_7', 'Open-2', 'Close-3', 'Open-3', 'Close-4', 'Close_mean_14', 'Open-4', 'Close-5', 'Open-5', 'Close-6', 'Close_mean_21', 'Open-6', 'Close-7', 'Open-7', 'Close-8', 'Open-8', 'Close-9', 'Close_mean_28', 'Open-9', 'Close-10', 'Close_mean_30', 'Open-10', 'Close-11', 'Open-11', 'Close-12', 'Open-12', 'Close-13', 'Open-13', 'Close-14', 'Open-14', 'Close-15', 'Open-15', 'Close-16', 'Open-16', 'Close-17', 'Open-17', 'Close-18', 'Open-18', 'Close-19', 'Close_mean_60', 'Open-19', 'Close-20', 'Open-20', 'Close-21', 'Open-21', 'Close-22', 'Open-22', 'Close-23', 'Open-23', 'Close-24', 'Open-24', 'Close-25', 'Open-25', 'Close-26', 'Open-26', 'Close-27', 'Open-27', 'Close-28', 'Open-28', 'Close_mean_90', 'Close-29', 'Open-29', 'Close_mean_180', 'Close_mean_365', 'Close_std_365', 'Volume_mean_30', 'Volume_mean_180', 'Volume_mean_365', 'Volume_mean_14', 'Volume_mean_7', 'Close_std_30', 'Close_std_28', 'Close_std_60', 'Close_std_90', 'Volume', 'Close_std_21', 'Close_std_180', 'Close_std_14', 'Close_std_7']\n"
     ]
    }
   ],
   "source": [
    "print(len(strong_correlations3))\n",
    "print(strong_correlations3)"
   ]
  },
  {
   "cell_type": "markdown",
   "metadata": {},
   "source": [
    "Having that many learning features on a simple linear regression might have a rather harmful effect. Let's test the model"
   ]
  },
  {
   "cell_type": "code",
   "execution_count": 375,
   "metadata": {},
   "outputs": [],
   "source": [
    "train = tw3_df[tw3_df[\"Date\"] < datetime(year=2013, month=1, day=1)]\n",
    "test = tw3_df[tw3_df[\"Date\"] >= datetime(year=2013, month=1, day=1)]"
   ]
  },
  {
   "cell_type": "code",
   "execution_count": 376,
   "metadata": {},
   "outputs": [
    {
     "name": "stdout",
     "output_type": "stream",
     "text": [
      "RMSE TRAIN AND TEST:\n",
      "7.50652311414 15.3969799666\n",
      "AVERAGE ERROR: 0.6088488036078049\n",
      "       PredictedClose        Close      Close-1      Close-2      Close-3  \\\n",
      "15851     1425.074988  1462.420044  1426.189941  1402.430054  1418.099976   \n",
      "15852     1462.179922  1459.369995  1462.420044  1426.189941  1402.430054   \n",
      "15853     1459.316114  1466.469971  1459.369995  1462.420044  1426.189941   \n",
      "15854     1468.320395  1461.890015  1466.469971  1459.369995  1462.420044   \n",
      "15855     1460.971662  1457.150024  1461.890015  1466.469971  1459.369995   \n",
      "15856     1456.269545  1461.020020  1457.150024  1461.890015  1466.469971   \n",
      "15857     1458.256645  1472.119995  1461.020020  1457.150024  1461.890015   \n",
      "15858     1469.437333  1472.050049  1472.119995  1461.020020  1457.150024   \n",
      "15859     1470.048144  1470.680054  1472.050049  1472.119995  1461.020020   \n",
      "15860     1469.679806  1472.339966  1470.680054  1472.050049  1472.119995   \n",
      "\n",
      "            Date  Error, %  Error, val  \n",
      "15851 2013-01-02  2.553648  -37.345056  \n",
      "15852 2013-01-03  0.192544    2.809927  \n",
      "15853 2013-01-04  0.487828   -7.153857  \n",
      "15854 2013-01-07  0.439868    6.430380  \n",
      "15855 2013-01-08  0.262268    3.821638  \n",
      "15856 2013-01-09  0.325148   -4.750475  \n",
      "15857 2013-01-10  0.941727  -13.863350  \n",
      "15858 2013-01-11  0.177488   -2.612716  \n",
      "15859 2013-01-14  0.042967   -0.631910  \n",
      "15860 2013-01-15  0.180676   -2.660160  \n"
     ]
    }
   ],
   "source": [
    "lr, check_df = test_model(train, test, strong_correlations3, 'Close')"
   ]
  },
  {
   "cell_type": "code",
   "execution_count": 377,
   "metadata": {},
   "outputs": [
    {
     "data": {
      "text/plain": [
       "count    739.000000\n",
       "mean       0.608849\n",
       "std        0.543017\n",
       "min        0.000238\n",
       "25%        0.216098\n",
       "50%        0.481882\n",
       "75%        0.834098\n",
       "max        4.547330\n",
       "Name: Error, %, dtype: float64"
      ]
     },
     "execution_count": 377,
     "metadata": {},
     "output_type": "execute_result"
    }
   ],
   "source": [
    "check_df['Error, %'].describe()"
   ]
  },
  {
   "cell_type": "markdown",
   "metadata": {},
   "source": [
    "# Conclusion"
   ]
  },
  {
   "cell_type": "markdown",
   "metadata": {},
   "source": [
    "All used approaches didn't improved model too much. Error (0.577%) is better (though very close) than the simpleton model's error (which just returns the 'Close' value from the previous day) (0.585%). Further improvements require usage of more advanced algorithms."
   ]
  },
  {
   "cell_type": "code",
   "execution_count": null,
   "metadata": {},
   "outputs": [],
   "source": []
  }
 ],
 "metadata": {
  "kernelspec": {
   "display_name": "Python 3",
   "language": "python",
   "name": "python3"
  },
  "language_info": {
   "codemirror_mode": {
    "name": "ipython",
    "version": 3
   },
   "file_extension": ".py",
   "mimetype": "text/x-python",
   "name": "python",
   "nbconvert_exporter": "python",
   "pygments_lexer": "ipython3",
   "version": "3.6.2"
  }
 },
 "nbformat": 4,
 "nbformat_minor": 2
}
