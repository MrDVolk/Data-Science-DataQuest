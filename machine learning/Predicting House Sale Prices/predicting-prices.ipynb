{
 "cells": [
  {
   "cell_type": "code",
   "execution_count": 279,
   "metadata": {},
   "outputs": [],
   "source": [
    "import numpy as np\n",
    "import pandas as pd\n",
    "from sklearn.linear_model import LinearRegression\n",
    "from sklearn.metrics import mean_squared_error"
   ]
  },
  {
   "cell_type": "code",
   "execution_count": 280,
   "metadata": {},
   "outputs": [],
   "source": [
    "housing_data_df = pd.read_csv('AmesHousing.tsv', sep='\\t')"
   ]
  },
  {
   "cell_type": "code",
   "execution_count": 281,
   "metadata": {},
   "outputs": [
    {
     "data": {
      "text/html": [
       "<div>\n",
       "<style>\n",
       "    .dataframe thead tr:only-child th {\n",
       "        text-align: right;\n",
       "    }\n",
       "\n",
       "    .dataframe thead th {\n",
       "        text-align: left;\n",
       "    }\n",
       "\n",
       "    .dataframe tbody tr th {\n",
       "        vertical-align: top;\n",
       "    }\n",
       "</style>\n",
       "<table border=\"1\" class=\"dataframe\">\n",
       "  <thead>\n",
       "    <tr style=\"text-align: right;\">\n",
       "      <th></th>\n",
       "      <th>Order</th>\n",
       "      <th>PID</th>\n",
       "      <th>MS SubClass</th>\n",
       "      <th>MS Zoning</th>\n",
       "      <th>Lot Frontage</th>\n",
       "      <th>Lot Area</th>\n",
       "      <th>Street</th>\n",
       "      <th>Alley</th>\n",
       "      <th>Lot Shape</th>\n",
       "      <th>Land Contour</th>\n",
       "      <th>...</th>\n",
       "      <th>Pool Area</th>\n",
       "      <th>Pool QC</th>\n",
       "      <th>Fence</th>\n",
       "      <th>Misc Feature</th>\n",
       "      <th>Misc Val</th>\n",
       "      <th>Mo Sold</th>\n",
       "      <th>Yr Sold</th>\n",
       "      <th>Sale Type</th>\n",
       "      <th>Sale Condition</th>\n",
       "      <th>SalePrice</th>\n",
       "    </tr>\n",
       "  </thead>\n",
       "  <tbody>\n",
       "    <tr>\n",
       "      <th>0</th>\n",
       "      <td>1</td>\n",
       "      <td>526301100</td>\n",
       "      <td>20</td>\n",
       "      <td>RL</td>\n",
       "      <td>141.0</td>\n",
       "      <td>31770</td>\n",
       "      <td>Pave</td>\n",
       "      <td>NaN</td>\n",
       "      <td>IR1</td>\n",
       "      <td>Lvl</td>\n",
       "      <td>...</td>\n",
       "      <td>0</td>\n",
       "      <td>NaN</td>\n",
       "      <td>NaN</td>\n",
       "      <td>NaN</td>\n",
       "      <td>0</td>\n",
       "      <td>5</td>\n",
       "      <td>2010</td>\n",
       "      <td>WD</td>\n",
       "      <td>Normal</td>\n",
       "      <td>215000</td>\n",
       "    </tr>\n",
       "    <tr>\n",
       "      <th>1</th>\n",
       "      <td>2</td>\n",
       "      <td>526350040</td>\n",
       "      <td>20</td>\n",
       "      <td>RH</td>\n",
       "      <td>80.0</td>\n",
       "      <td>11622</td>\n",
       "      <td>Pave</td>\n",
       "      <td>NaN</td>\n",
       "      <td>Reg</td>\n",
       "      <td>Lvl</td>\n",
       "      <td>...</td>\n",
       "      <td>0</td>\n",
       "      <td>NaN</td>\n",
       "      <td>MnPrv</td>\n",
       "      <td>NaN</td>\n",
       "      <td>0</td>\n",
       "      <td>6</td>\n",
       "      <td>2010</td>\n",
       "      <td>WD</td>\n",
       "      <td>Normal</td>\n",
       "      <td>105000</td>\n",
       "    </tr>\n",
       "    <tr>\n",
       "      <th>2</th>\n",
       "      <td>3</td>\n",
       "      <td>526351010</td>\n",
       "      <td>20</td>\n",
       "      <td>RL</td>\n",
       "      <td>81.0</td>\n",
       "      <td>14267</td>\n",
       "      <td>Pave</td>\n",
       "      <td>NaN</td>\n",
       "      <td>IR1</td>\n",
       "      <td>Lvl</td>\n",
       "      <td>...</td>\n",
       "      <td>0</td>\n",
       "      <td>NaN</td>\n",
       "      <td>NaN</td>\n",
       "      <td>Gar2</td>\n",
       "      <td>12500</td>\n",
       "      <td>6</td>\n",
       "      <td>2010</td>\n",
       "      <td>WD</td>\n",
       "      <td>Normal</td>\n",
       "      <td>172000</td>\n",
       "    </tr>\n",
       "    <tr>\n",
       "      <th>3</th>\n",
       "      <td>4</td>\n",
       "      <td>526353030</td>\n",
       "      <td>20</td>\n",
       "      <td>RL</td>\n",
       "      <td>93.0</td>\n",
       "      <td>11160</td>\n",
       "      <td>Pave</td>\n",
       "      <td>NaN</td>\n",
       "      <td>Reg</td>\n",
       "      <td>Lvl</td>\n",
       "      <td>...</td>\n",
       "      <td>0</td>\n",
       "      <td>NaN</td>\n",
       "      <td>NaN</td>\n",
       "      <td>NaN</td>\n",
       "      <td>0</td>\n",
       "      <td>4</td>\n",
       "      <td>2010</td>\n",
       "      <td>WD</td>\n",
       "      <td>Normal</td>\n",
       "      <td>244000</td>\n",
       "    </tr>\n",
       "    <tr>\n",
       "      <th>4</th>\n",
       "      <td>5</td>\n",
       "      <td>527105010</td>\n",
       "      <td>60</td>\n",
       "      <td>RL</td>\n",
       "      <td>74.0</td>\n",
       "      <td>13830</td>\n",
       "      <td>Pave</td>\n",
       "      <td>NaN</td>\n",
       "      <td>IR1</td>\n",
       "      <td>Lvl</td>\n",
       "      <td>...</td>\n",
       "      <td>0</td>\n",
       "      <td>NaN</td>\n",
       "      <td>MnPrv</td>\n",
       "      <td>NaN</td>\n",
       "      <td>0</td>\n",
       "      <td>3</td>\n",
       "      <td>2010</td>\n",
       "      <td>WD</td>\n",
       "      <td>Normal</td>\n",
       "      <td>189900</td>\n",
       "    </tr>\n",
       "  </tbody>\n",
       "</table>\n",
       "<p>5 rows × 82 columns</p>\n",
       "</div>"
      ],
      "text/plain": [
       "   Order        PID  MS SubClass MS Zoning  Lot Frontage  Lot Area Street  \\\n",
       "0      1  526301100           20        RL         141.0     31770   Pave   \n",
       "1      2  526350040           20        RH          80.0     11622   Pave   \n",
       "2      3  526351010           20        RL          81.0     14267   Pave   \n",
       "3      4  526353030           20        RL          93.0     11160   Pave   \n",
       "4      5  527105010           60        RL          74.0     13830   Pave   \n",
       "\n",
       "  Alley Lot Shape Land Contour    ...     Pool Area Pool QC  Fence  \\\n",
       "0   NaN       IR1          Lvl    ...             0     NaN    NaN   \n",
       "1   NaN       Reg          Lvl    ...             0     NaN  MnPrv   \n",
       "2   NaN       IR1          Lvl    ...             0     NaN    NaN   \n",
       "3   NaN       Reg          Lvl    ...             0     NaN    NaN   \n",
       "4   NaN       IR1          Lvl    ...             0     NaN  MnPrv   \n",
       "\n",
       "  Misc Feature Misc Val Mo Sold Yr Sold Sale Type  Sale Condition  SalePrice  \n",
       "0          NaN        0       5    2010       WD           Normal     215000  \n",
       "1          NaN        0       6    2010       WD           Normal     105000  \n",
       "2         Gar2    12500       6    2010       WD           Normal     172000  \n",
       "3          NaN        0       4    2010       WD           Normal     244000  \n",
       "4          NaN        0       3    2010       WD           Normal     189900  \n",
       "\n",
       "[5 rows x 82 columns]"
      ]
     },
     "execution_count": 281,
     "metadata": {},
     "output_type": "execute_result"
    }
   ],
   "source": [
    "housing_data_df.head()"
   ]
  },
  {
   "cell_type": "code",
   "execution_count": 282,
   "metadata": {},
   "outputs": [
    {
     "data": {
      "text/plain": [
       "(2930, 82)"
      ]
     },
     "execution_count": 282,
     "metadata": {},
     "output_type": "execute_result"
    }
   ],
   "source": [
    "housing_data_df.shape"
   ]
  },
  {
   "cell_type": "markdown",
   "metadata": {},
   "source": [
    "Lets use 80% of the data as train set, and the rest 20% as test"
   ]
  },
  {
   "cell_type": "code",
   "execution_count": 283,
   "metadata": {},
   "outputs": [],
   "source": [
    "def get_train_and_test_sets(data, split=0.8):\n",
    "    df = data.sample(frac=1)\n",
    "    train_index = int(df.shape[0]*0.8)\n",
    "    train = df[:train_index]\n",
    "    test = df[train_index:]\n",
    "    return (train, test)"
   ]
  },
  {
   "cell_type": "code",
   "execution_count": 284,
   "metadata": {},
   "outputs": [],
   "source": [
    "train, test = get_train_and_test_sets(housing_data_df)"
   ]
  },
  {
   "cell_type": "markdown",
   "metadata": {},
   "source": [
    "# Predicting models"
   ]
  },
  {
   "cell_type": "markdown",
   "metadata": {},
   "source": [
    "Let's establish a minimum quality by estimating accuracy of prediction by just one column: \"Gr Liv Area\""
   ]
  },
  {
   "cell_type": "code",
   "execution_count": 285,
   "metadata": {},
   "outputs": [
    {
     "data": {
      "text/plain": [
       "LinearRegression(copy_X=True, fit_intercept=True, n_jobs=1, normalize=False)"
      ]
     },
     "execution_count": 285,
     "metadata": {},
     "output_type": "execute_result"
    }
   ],
   "source": [
    "lr1 = LinearRegression()\n",
    "lr1.fit(train[['Gr Liv Area']], train['SalePrice'])"
   ]
  },
  {
   "cell_type": "code",
   "execution_count": 286,
   "metadata": {},
   "outputs": [
    {
     "name": "stdout",
     "output_type": "stream",
     "text": [
      "56509.1103911 56538.5852969\n"
     ]
    }
   ],
   "source": [
    "lr1_train_pred = lr1.predict(train[['Gr Liv Area']])\n",
    "lr1_train_rmse = mean_squared_error(lr1_train_pred, train['SalePrice']) ** 0.5\n",
    "\n",
    "lr1_test_pred = lr1.predict(test[['Gr Liv Area']])\n",
    "lr1_test_rmse = mean_squared_error(lr1_test_pred, test['SalePrice']) ** 0.5\n",
    "\n",
    "print(lr1_train_rmse, lr1_test_rmse)"
   ]
  },
  {
   "cell_type": "markdown",
   "metadata": {},
   "source": [
    "Let's check the results by ourselves"
   ]
  },
  {
   "cell_type": "code",
   "execution_count": 287,
   "metadata": {},
   "outputs": [],
   "source": [
    "def compare_predictions(predicted, actual):\n",
    "    check_df = pd.DataFrame(data=predicted, index=actual.index, columns=[\"Predicted SalePrice\"])\n",
    "    check_df['SalePrice'] = actual\n",
    "    check_df[\"Error, %\"] = np.abs(check_df[\"Predicted SalePrice\"]*100/check_df['SalePrice'] - 100)\n",
    "    return (check_df.sort_index(), check_df[\"Error, %\"].mean())"
   ]
  },
  {
   "cell_type": "code",
   "execution_count": 288,
   "metadata": {},
   "outputs": [],
   "source": [
    "check_df, avg_error = compare_predictions(lr1_test_pred, test['SalePrice'])"
   ]
  },
  {
   "cell_type": "code",
   "execution_count": 289,
   "metadata": {},
   "outputs": [
    {
     "data": {
      "text/html": [
       "<div>\n",
       "<style>\n",
       "    .dataframe thead tr:only-child th {\n",
       "        text-align: right;\n",
       "    }\n",
       "\n",
       "    .dataframe thead th {\n",
       "        text-align: left;\n",
       "    }\n",
       "\n",
       "    .dataframe tbody tr th {\n",
       "        vertical-align: top;\n",
       "    }\n",
       "</style>\n",
       "<table border=\"1\" class=\"dataframe\">\n",
       "  <thead>\n",
       "    <tr style=\"text-align: right;\">\n",
       "      <th></th>\n",
       "      <th>Predicted SalePrice</th>\n",
       "      <th>SalePrice</th>\n",
       "      <th>Error, %</th>\n",
       "    </tr>\n",
       "  </thead>\n",
       "  <tbody>\n",
       "    <tr>\n",
       "      <th>8</th>\n",
       "      <td>193932.628554</td>\n",
       "      <td>236500</td>\n",
       "      <td>17.998889</td>\n",
       "    </tr>\n",
       "    <tr>\n",
       "      <th>15</th>\n",
       "      <td>383185.057363</td>\n",
       "      <td>538000</td>\n",
       "      <td>28.776012</td>\n",
       "    </tr>\n",
       "    <tr>\n",
       "      <th>18</th>\n",
       "      <td>108353.658942</td>\n",
       "      <td>141000</td>\n",
       "      <td>23.153433</td>\n",
       "    </tr>\n",
       "    <tr>\n",
       "      <th>26</th>\n",
       "      <td>110402.091726</td>\n",
       "      <td>126000</td>\n",
       "      <td>12.379292</td>\n",
       "    </tr>\n",
       "    <tr>\n",
       "      <th>27</th>\n",
       "      <td>108353.658942</td>\n",
       "      <td>115000</td>\n",
       "      <td>5.779427</td>\n",
       "    </tr>\n",
       "    <tr>\n",
       "      <th>31</th>\n",
       "      <td>134300.474197</td>\n",
       "      <td>88000</td>\n",
       "      <td>52.614175</td>\n",
       "    </tr>\n",
       "    <tr>\n",
       "      <th>35</th>\n",
       "      <td>175724.337147</td>\n",
       "      <td>146000</td>\n",
       "      <td>20.359135</td>\n",
       "    </tr>\n",
       "    <tr>\n",
       "      <th>36</th>\n",
       "      <td>275642.336242</td>\n",
       "      <td>376162</td>\n",
       "      <td>26.722440</td>\n",
       "    </tr>\n",
       "    <tr>\n",
       "      <th>41</th>\n",
       "      <td>203264.377900</td>\n",
       "      <td>275000</td>\n",
       "      <td>26.085681</td>\n",
       "    </tr>\n",
       "    <tr>\n",
       "      <th>44</th>\n",
       "      <td>279056.390881</td>\n",
       "      <td>611657</td>\n",
       "      <td>54.376981</td>\n",
       "    </tr>\n",
       "  </tbody>\n",
       "</table>\n",
       "</div>"
      ],
      "text/plain": [
       "    Predicted SalePrice  SalePrice   Error, %\n",
       "8         193932.628554     236500  17.998889\n",
       "15        383185.057363     538000  28.776012\n",
       "18        108353.658942     141000  23.153433\n",
       "26        110402.091726     126000  12.379292\n",
       "27        108353.658942     115000   5.779427\n",
       "31        134300.474197      88000  52.614175\n",
       "35        175724.337147     146000  20.359135\n",
       "36        275642.336242     376162  26.722440\n",
       "41        203264.377900     275000  26.085681\n",
       "44        279056.390881     611657  54.376981"
      ]
     },
     "execution_count": 289,
     "metadata": {},
     "output_type": "execute_result"
    }
   ],
   "source": [
    "check_df.head(10)"
   ]
  },
  {
   "cell_type": "code",
   "execution_count": 290,
   "metadata": {},
   "outputs": [
    {
     "data": {
      "text/plain": [
       "23.013630955190397"
      ]
     },
     "execution_count": 290,
     "metadata": {},
     "output_type": "execute_result"
    }
   ],
   "source": [
    "avg_error"
   ]
  },
  {
   "cell_type": "markdown",
   "metadata": {},
   "source": [
    "### For the simplest model the average error is ~25%"
   ]
  },
  {
   "cell_type": "markdown",
   "metadata": {},
   "source": [
    "# Editing features for initial dataset"
   ]
  },
  {
   "cell_type": "code",
   "execution_count": 291,
   "metadata": {},
   "outputs": [],
   "source": [
    "feature_edited_df = housing_data_df.copy()"
   ]
  },
  {
   "cell_type": "code",
   "execution_count": 292,
   "metadata": {},
   "outputs": [
    {
     "data": {
      "text/plain": [
       "Lot Frontage       490\n",
       "Alley             2732\n",
       "Mas Vnr Type        23\n",
       "Mas Vnr Area        23\n",
       "Bsmt Qual           80\n",
       "Bsmt Cond           80\n",
       "Bsmt Exposure       83\n",
       "BsmtFin Type 1      80\n",
       "BsmtFin SF 1         1\n",
       "BsmtFin Type 2      81\n",
       "BsmtFin SF 2         1\n",
       "Bsmt Unf SF          1\n",
       "Total Bsmt SF        1\n",
       "Electrical           1\n",
       "Bsmt Full Bath       2\n",
       "Bsmt Half Bath       2\n",
       "Fireplace Qu      1422\n",
       "Garage Type        157\n",
       "Garage Yr Blt      159\n",
       "Garage Finish      159\n",
       "Garage Cars          1\n",
       "Garage Area          1\n",
       "Garage Qual        159\n",
       "Garage Cond        159\n",
       "Pool QC           2917\n",
       "Fence             2358\n",
       "Misc Feature      2824\n",
       "dtype: int64"
      ]
     },
     "execution_count": 292,
     "metadata": {},
     "output_type": "execute_result"
    }
   ],
   "source": [
    "null_series = feature_edited_df.isnull().sum()\n",
    "null_series = null_series[null_series > 0]\n",
    "null_series"
   ]
  },
  {
   "cell_type": "markdown",
   "metadata": {},
   "source": [
    "Lets remove entirely columns that have more than 15% of missing data, and lets fill the rest with average data"
   ]
  },
  {
   "cell_type": "code",
   "execution_count": 293,
   "metadata": {},
   "outputs": [],
   "source": [
    "removal_threshold = int(feature_edited_df.shape[0]*0.15)"
   ]
  },
  {
   "cell_type": "code",
   "execution_count": 294,
   "metadata": {},
   "outputs": [],
   "source": [
    "null_series_to_drop = null_series[null_series > removal_threshold]"
   ]
  },
  {
   "cell_type": "code",
   "execution_count": 295,
   "metadata": {},
   "outputs": [],
   "source": [
    "null_series_to_fill = null_series[null_series <= removal_threshold]\n",
    "null_series_to_fill = feature_edited_df[null_series_to_fill.index].select_dtypes(include=['float'])"
   ]
  },
  {
   "cell_type": "code",
   "execution_count": 296,
   "metadata": {},
   "outputs": [],
   "source": [
    "for col in null_series_to_drop.index:\n",
    "    del feature_edited_df[col]"
   ]
  },
  {
   "cell_type": "code",
   "execution_count": 297,
   "metadata": {},
   "outputs": [],
   "source": [
    "feature_edited_df[null_series_to_fill.columns] = null_series_to_fill.fillna(null_series_to_fill.mean())"
   ]
  },
  {
   "cell_type": "code",
   "execution_count": 298,
   "metadata": {},
   "outputs": [
    {
     "data": {
      "text/plain": [
       "Mas Vnr Type       23\n",
       "Bsmt Qual          80\n",
       "Bsmt Cond          80\n",
       "Bsmt Exposure      83\n",
       "BsmtFin Type 1     80\n",
       "BsmtFin Type 2     81\n",
       "Electrical          1\n",
       "Garage Type       157\n",
       "Garage Finish     159\n",
       "Garage Qual       159\n",
       "Garage Cond       159\n",
       "dtype: int64"
      ]
     },
     "execution_count": 298,
     "metadata": {},
     "output_type": "execute_result"
    }
   ],
   "source": [
    "null_series = feature_edited_df.isnull().sum()\n",
    "null_series = null_series[null_series > 0]\n",
    "null_series"
   ]
  },
  {
   "cell_type": "code",
   "execution_count": 299,
   "metadata": {},
   "outputs": [
    {
     "data": {
      "text/html": [
       "<div>\n",
       "<style>\n",
       "    .dataframe thead tr:only-child th {\n",
       "        text-align: right;\n",
       "    }\n",
       "\n",
       "    .dataframe thead th {\n",
       "        text-align: left;\n",
       "    }\n",
       "\n",
       "    .dataframe tbody tr th {\n",
       "        vertical-align: top;\n",
       "    }\n",
       "</style>\n",
       "<table border=\"1\" class=\"dataframe\">\n",
       "  <thead>\n",
       "    <tr style=\"text-align: right;\">\n",
       "      <th></th>\n",
       "      <th>Mas Vnr Type</th>\n",
       "      <th>Bsmt Qual</th>\n",
       "      <th>Bsmt Cond</th>\n",
       "      <th>Bsmt Exposure</th>\n",
       "      <th>BsmtFin Type 1</th>\n",
       "      <th>BsmtFin Type 2</th>\n",
       "      <th>Electrical</th>\n",
       "      <th>Garage Type</th>\n",
       "      <th>Garage Finish</th>\n",
       "      <th>Garage Qual</th>\n",
       "      <th>Garage Cond</th>\n",
       "    </tr>\n",
       "  </thead>\n",
       "  <tbody>\n",
       "    <tr>\n",
       "      <th>0</th>\n",
       "      <td>Stone</td>\n",
       "      <td>TA</td>\n",
       "      <td>Gd</td>\n",
       "      <td>Gd</td>\n",
       "      <td>BLQ</td>\n",
       "      <td>Unf</td>\n",
       "      <td>SBrkr</td>\n",
       "      <td>Attchd</td>\n",
       "      <td>Fin</td>\n",
       "      <td>TA</td>\n",
       "      <td>TA</td>\n",
       "    </tr>\n",
       "    <tr>\n",
       "      <th>1</th>\n",
       "      <td>None</td>\n",
       "      <td>TA</td>\n",
       "      <td>TA</td>\n",
       "      <td>No</td>\n",
       "      <td>Rec</td>\n",
       "      <td>LwQ</td>\n",
       "      <td>SBrkr</td>\n",
       "      <td>Attchd</td>\n",
       "      <td>Unf</td>\n",
       "      <td>TA</td>\n",
       "      <td>TA</td>\n",
       "    </tr>\n",
       "    <tr>\n",
       "      <th>2</th>\n",
       "      <td>BrkFace</td>\n",
       "      <td>TA</td>\n",
       "      <td>TA</td>\n",
       "      <td>No</td>\n",
       "      <td>ALQ</td>\n",
       "      <td>Unf</td>\n",
       "      <td>SBrkr</td>\n",
       "      <td>Attchd</td>\n",
       "      <td>Unf</td>\n",
       "      <td>TA</td>\n",
       "      <td>TA</td>\n",
       "    </tr>\n",
       "    <tr>\n",
       "      <th>3</th>\n",
       "      <td>None</td>\n",
       "      <td>TA</td>\n",
       "      <td>TA</td>\n",
       "      <td>No</td>\n",
       "      <td>ALQ</td>\n",
       "      <td>Unf</td>\n",
       "      <td>SBrkr</td>\n",
       "      <td>Attchd</td>\n",
       "      <td>Fin</td>\n",
       "      <td>TA</td>\n",
       "      <td>TA</td>\n",
       "    </tr>\n",
       "    <tr>\n",
       "      <th>4</th>\n",
       "      <td>None</td>\n",
       "      <td>Gd</td>\n",
       "      <td>TA</td>\n",
       "      <td>No</td>\n",
       "      <td>GLQ</td>\n",
       "      <td>Unf</td>\n",
       "      <td>SBrkr</td>\n",
       "      <td>Attchd</td>\n",
       "      <td>Fin</td>\n",
       "      <td>TA</td>\n",
       "      <td>TA</td>\n",
       "    </tr>\n",
       "  </tbody>\n",
       "</table>\n",
       "</div>"
      ],
      "text/plain": [
       "  Mas Vnr Type Bsmt Qual Bsmt Cond Bsmt Exposure BsmtFin Type 1  \\\n",
       "0        Stone        TA        Gd            Gd            BLQ   \n",
       "1         None        TA        TA            No            Rec   \n",
       "2      BrkFace        TA        TA            No            ALQ   \n",
       "3         None        TA        TA            No            ALQ   \n",
       "4         None        Gd        TA            No            GLQ   \n",
       "\n",
       "  BsmtFin Type 2 Electrical Garage Type Garage Finish Garage Qual Garage Cond  \n",
       "0            Unf      SBrkr      Attchd           Fin          TA          TA  \n",
       "1            LwQ      SBrkr      Attchd           Unf          TA          TA  \n",
       "2            Unf      SBrkr      Attchd           Unf          TA          TA  \n",
       "3            Unf      SBrkr      Attchd           Fin          TA          TA  \n",
       "4            Unf      SBrkr      Attchd           Fin          TA          TA  "
      ]
     },
     "execution_count": 299,
     "metadata": {},
     "output_type": "execute_result"
    }
   ],
   "source": [
    "feature_edited_df[null_series.index].head()"
   ]
  },
  {
   "cell_type": "markdown",
   "metadata": {},
   "source": [
    "Now only categorical data has some missing values. Lets transform it first and then decide what to do."
   ]
  },
  {
   "cell_type": "code",
   "execution_count": 300,
   "metadata": {},
   "outputs": [],
   "source": [
    "categorical_missing_data = null_series"
   ]
  },
  {
   "cell_type": "code",
   "execution_count": 301,
   "metadata": {},
   "outputs": [
    {
     "name": "stdout",
     "output_type": "stream",
     "text": [
      "Index(['MS Zoning', 'Street', 'Lot Shape', 'Land Contour', 'Utilities',\n",
      "       'Lot Config', 'Land Slope', 'Neighborhood', 'Condition 1',\n",
      "       'Condition 2', 'Bldg Type', 'House Style', 'Roof Style', 'Roof Matl',\n",
      "       'Exterior 1st', 'Exterior 2nd', 'Mas Vnr Type', 'Exter Qual',\n",
      "       'Exter Cond', 'Foundation', 'Bsmt Qual', 'Bsmt Cond', 'Bsmt Exposure',\n",
      "       'BsmtFin Type 1', 'BsmtFin Type 2', 'Heating', 'Heating QC',\n",
      "       'Central Air', 'Electrical', 'Kitchen Qual', 'Functional',\n",
      "       'Garage Type', 'Garage Finish', 'Garage Qual', 'Garage Cond',\n",
      "       'Paved Drive', 'Sale Type', 'Sale Condition'],\n",
      "      dtype='object')\n"
     ]
    }
   ],
   "source": [
    "text_cols = feature_edited_df.select_dtypes(include=['object']).columns\n",
    "print(text_cols)"
   ]
  },
  {
   "cell_type": "code",
   "execution_count": 302,
   "metadata": {},
   "outputs": [],
   "source": [
    "for col in text_cols:\n",
    "    feature_edited_df[col] = feature_edited_df[col].astype('category')\n",
    "    col_dummies = pd.get_dummies(feature_edited_df[col], prefix=col)\n",
    "    feature_edited_df = pd.concat([feature_edited_df, col_dummies], axis=1)\n",
    "    del feature_edited_df[col]"
   ]
  },
  {
   "cell_type": "markdown",
   "metadata": {},
   "source": [
    "All missing categorical values have been replaced with zeroes in all related one-hot-encoding columns"
   ]
  },
  {
   "cell_type": "code",
   "execution_count": 303,
   "metadata": {},
   "outputs": [
    {
     "data": {
      "text/plain": [
       "Series([], dtype: int64)"
      ]
     },
     "execution_count": 303,
     "metadata": {},
     "output_type": "execute_result"
    }
   ],
   "source": [
    "null_series = feature_edited_df.isnull().sum()\n",
    "null_series = null_series[null_series > 0]\n",
    "null_series"
   ]
  },
  {
   "cell_type": "markdown",
   "metadata": {},
   "source": [
    "No missing values so far"
   ]
  },
  {
   "cell_type": "code",
   "execution_count": 312,
   "metadata": {},
   "outputs": [],
   "source": [
    "train, test = get_train_and_test_sets(feature_edited_df)"
   ]
  },
  {
   "cell_type": "code",
   "execution_count": 313,
   "metadata": {},
   "outputs": [],
   "source": [
    "def get_features(dataset, target='SalePrice'):\n",
    "    features = []\n",
    "    for col in dataset.columns:\n",
    "        if col != target:\n",
    "            features.append(col)\n",
    "    return features"
   ]
  },
  {
   "cell_type": "code",
   "execution_count": 314,
   "metadata": {},
   "outputs": [],
   "source": [
    "features = get_features(feature_edited_df)"
   ]
  },
  {
   "cell_type": "markdown",
   "metadata": {},
   "source": [
    "## Test new model:"
   ]
  },
  {
   "cell_type": "code",
   "execution_count": 315,
   "metadata": {},
   "outputs": [
    {
     "data": {
      "text/plain": [
       "LinearRegression(copy_X=True, fit_intercept=True, n_jobs=1, normalize=False)"
      ]
     },
     "execution_count": 315,
     "metadata": {},
     "output_type": "execute_result"
    }
   ],
   "source": [
    "lr2 = LinearRegression()\n",
    "lr2.fit(train[features], train['SalePrice'])"
   ]
  },
  {
   "cell_type": "code",
   "execution_count": 316,
   "metadata": {},
   "outputs": [
    {
     "name": "stdout",
     "output_type": "stream",
     "text": [
      "21088.5432053 39246.2550554\n"
     ]
    }
   ],
   "source": [
    "lr2_train_pred = lr2.predict(train[features])\n",
    "lr2_train_rmse = mean_squared_error(lr2_train_pred, train['SalePrice']) ** 0.5\n",
    "\n",
    "lr2_test_pred = lr2.predict(test[features])\n",
    "lr2_test_rmse = mean_squared_error(lr2_test_pred, test['SalePrice']) ** 0.5\n",
    "\n",
    "print(lr2_train_rmse, lr2_test_rmse)"
   ]
  },
  {
   "cell_type": "code",
   "execution_count": 317,
   "metadata": {},
   "outputs": [],
   "source": [
    "check_df, avg_error = compare_predictions(lr2_test_pred, test['SalePrice'])"
   ]
  },
  {
   "cell_type": "code",
   "execution_count": 318,
   "metadata": {},
   "outputs": [
    {
     "data": {
      "text/plain": [
       "9.999680286305194"
      ]
     },
     "execution_count": 318,
     "metadata": {},
     "output_type": "execute_result"
    }
   ],
   "source": [
    "avg_error"
   ]
  },
  {
   "cell_type": "code",
   "execution_count": 319,
   "metadata": {},
   "outputs": [
    {
     "data": {
      "text/html": [
       "<div>\n",
       "<style>\n",
       "    .dataframe thead tr:only-child th {\n",
       "        text-align: right;\n",
       "    }\n",
       "\n",
       "    .dataframe thead th {\n",
       "        text-align: left;\n",
       "    }\n",
       "\n",
       "    .dataframe tbody tr th {\n",
       "        vertical-align: top;\n",
       "    }\n",
       "</style>\n",
       "<table border=\"1\" class=\"dataframe\">\n",
       "  <thead>\n",
       "    <tr style=\"text-align: right;\">\n",
       "      <th></th>\n",
       "      <th>Predicted SalePrice</th>\n",
       "      <th>SalePrice</th>\n",
       "      <th>Error, %</th>\n",
       "    </tr>\n",
       "  </thead>\n",
       "  <tbody>\n",
       "    <tr>\n",
       "      <th>9</th>\n",
       "      <td>194397.336329</td>\n",
       "      <td>189000</td>\n",
       "      <td>2.855734</td>\n",
       "    </tr>\n",
       "    <tr>\n",
       "      <th>13</th>\n",
       "      <td>204602.533510</td>\n",
       "      <td>171500</td>\n",
       "      <td>19.301769</td>\n",
       "    </tr>\n",
       "    <tr>\n",
       "      <th>15</th>\n",
       "      <td>469381.764198</td>\n",
       "      <td>538000</td>\n",
       "      <td>12.754319</td>\n",
       "    </tr>\n",
       "    <tr>\n",
       "      <th>22</th>\n",
       "      <td>217216.630226</td>\n",
       "      <td>216000</td>\n",
       "      <td>0.563255</td>\n",
       "    </tr>\n",
       "    <tr>\n",
       "      <th>27</th>\n",
       "      <td>95088.621075</td>\n",
       "      <td>115000</td>\n",
       "      <td>17.314243</td>\n",
       "    </tr>\n",
       "    <tr>\n",
       "      <th>28</th>\n",
       "      <td>178980.276404</td>\n",
       "      <td>184000</td>\n",
       "      <td>2.728111</td>\n",
       "    </tr>\n",
       "    <tr>\n",
       "      <th>30</th>\n",
       "      <td>89202.019042</td>\n",
       "      <td>105500</td>\n",
       "      <td>15.448323</td>\n",
       "    </tr>\n",
       "    <tr>\n",
       "      <th>33</th>\n",
       "      <td>146179.140627</td>\n",
       "      <td>149900</td>\n",
       "      <td>2.482228</td>\n",
       "    </tr>\n",
       "    <tr>\n",
       "      <th>38</th>\n",
       "      <td>399398.207127</td>\n",
       "      <td>395192</td>\n",
       "      <td>1.064345</td>\n",
       "    </tr>\n",
       "    <tr>\n",
       "      <th>40</th>\n",
       "      <td>252374.169757</td>\n",
       "      <td>220000</td>\n",
       "      <td>14.715532</td>\n",
       "    </tr>\n",
       "  </tbody>\n",
       "</table>\n",
       "</div>"
      ],
      "text/plain": [
       "    Predicted SalePrice  SalePrice   Error, %\n",
       "9         194397.336329     189000   2.855734\n",
       "13        204602.533510     171500  19.301769\n",
       "15        469381.764198     538000  12.754319\n",
       "22        217216.630226     216000   0.563255\n",
       "27         95088.621075     115000  17.314243\n",
       "28        178980.276404     184000   2.728111\n",
       "30         89202.019042     105500  15.448323\n",
       "33        146179.140627     149900   2.482228\n",
       "38        399398.207127     395192   1.064345\n",
       "40        252374.169757     220000  14.715532"
      ]
     },
     "execution_count": 319,
     "metadata": {},
     "output_type": "execute_result"
    }
   ],
   "source": [
    "check_df.head(10)"
   ]
  },
  {
   "cell_type": "markdown",
   "metadata": {},
   "source": [
    "# Average error got down to ~10%"
   ]
  },
  {
   "cell_type": "markdown",
   "metadata": {},
   "source": [
    "Now lets improve data on numerical values that are not very representative."
   ]
  },
  {
   "cell_type": "code",
   "execution_count": 320,
   "metadata": {},
   "outputs": [],
   "source": [
    "numerical_data = housing_data_df.select_dtypes(include=['float32', 'int64'])"
   ]
  },
  {
   "cell_type": "code",
   "execution_count": 321,
   "metadata": {},
   "outputs": [
    {
     "data": {
      "text/plain": [
       "Index(['Order', 'PID', 'MS SubClass', 'Lot Area', 'Overall Qual',\n",
       "       'Overall Cond', 'Year Built', 'Year Remod/Add', '1st Flr SF',\n",
       "       '2nd Flr SF', 'Low Qual Fin SF', 'Gr Liv Area', 'Full Bath',\n",
       "       'Half Bath', 'Bedroom AbvGr', 'Kitchen AbvGr', 'TotRms AbvGrd',\n",
       "       'Fireplaces', 'Wood Deck SF', 'Open Porch SF', 'Enclosed Porch',\n",
       "       '3Ssn Porch', 'Screen Porch', 'Pool Area', 'Misc Val', 'Mo Sold',\n",
       "       'Yr Sold', 'SalePrice'],\n",
       "      dtype='object')"
      ]
     },
     "execution_count": 321,
     "metadata": {},
     "output_type": "execute_result"
    }
   ],
   "source": [
    "numerical_data.columns"
   ]
  },
  {
   "cell_type": "markdown",
   "metadata": {},
   "source": [
    "We don't need columns \"Order\" and \"PID\", and we also have to modify all columns related to years.\n",
    "\n",
    "Let's remove column \"Year Built\", and replace 'Year Remod/Add', 'Garage Yr Blt', 'Yr Sold' with difference with the value and \"Year Built\"."
   ]
  },
  {
   "cell_type": "code",
   "execution_count": 322,
   "metadata": {},
   "outputs": [],
   "source": [
    "feature_edited_2_df = feature_edited_df.copy()"
   ]
  },
  {
   "cell_type": "code",
   "execution_count": 323,
   "metadata": {},
   "outputs": [],
   "source": [
    "del feature_edited_2_df['Order']\n",
    "del feature_edited_2_df['PID']"
   ]
  },
  {
   "cell_type": "code",
   "execution_count": 324,
   "metadata": {},
   "outputs": [],
   "source": [
    "for col in ['Year Remod/Add', 'Garage Yr Blt', 'Yr Sold']:\n",
    "    feature_edited_2_df[col] = feature_edited_2_df[col] - feature_edited_2_df['Year Built']\n",
    "    \n",
    "del feature_edited_2_df['Year Built']"
   ]
  },
  {
   "cell_type": "markdown",
   "metadata": {},
   "source": [
    "Also let's transform 'MS SubClass' into categorical type. It is reresented as numerical, but numbers represent category anyway, so it is sort of misleading"
   ]
  },
  {
   "cell_type": "code",
   "execution_count": 325,
   "metadata": {},
   "outputs": [],
   "source": [
    "feature_edited_2_df['MS SubClass'] = feature_edited_2_df['MS SubClass'].astype('category')\n",
    "col_dummies = pd.get_dummies(feature_edited_2_df['MS SubClass'])\n",
    "feature_edited_2_df = pd.concat([feature_edited_2_df, col_dummies], axis=1)\n",
    "del feature_edited_2_df['MS SubClass']"
   ]
  },
  {
   "cell_type": "code",
   "execution_count": 326,
   "metadata": {},
   "outputs": [],
   "source": [
    "def test_model(train, test, features):    \n",
    "    lr = LinearRegression()\n",
    "    lr.fit(train[features], train['SalePrice'])\n",
    "    \n",
    "    lr_train_pred = lr.predict(train[features])\n",
    "    lr_train_rmse = mean_squared_error(lr_train_pred, train['SalePrice']) ** 0.5\n",
    "\n",
    "    lr_test_pred = lr.predict(test[features])\n",
    "    lr_test_rmse = mean_squared_error(lr_test_pred, test['SalePrice']) ** 0.5\n",
    "\n",
    "    print(\"RMSE TRAIN AND TEST:\")\n",
    "    print(lr_train_rmse, lr_test_rmse)\n",
    "    \n",
    "    check_df, avg_error = compare_predictions(lr_test_pred, test['SalePrice'])\n",
    "    \n",
    "    print(\"AVERAGE ERROR:\", avg_error)\n",
    "    \n",
    "    print(check_df.head(10))\n",
    "    \n",
    "    return lr"
   ]
  },
  {
   "cell_type": "code",
   "execution_count": 327,
   "metadata": {},
   "outputs": [],
   "source": [
    "train, test = get_train_and_test_sets(feature_edited_2_df)\n",
    "features = get_features(feature_edited_2_df)"
   ]
  },
  {
   "cell_type": "code",
   "execution_count": 328,
   "metadata": {},
   "outputs": [
    {
     "name": "stdout",
     "output_type": "stream",
     "text": [
      "RMSE TRAIN AND TEST:\n",
      "22271.5566443 23648.317037\n",
      "AVERAGE ERROR: 9.67346379322944\n",
      "    Predicted SalePrice  SalePrice   Error, %\n",
      "4         186189.262792     189900   1.954048\n",
      "7         209056.896644     191500   9.168092\n",
      "11        176795.821398     185000   4.434691\n",
      "27         88606.741110     115000  22.950660\n",
      "35        138535.275495     146000   5.112825\n",
      "45        222063.367137     224000   0.864568\n",
      "48        315413.445727     319900   1.402486\n",
      "50        176431.996390     175500   0.531052\n",
      "51        174340.457022     199500  12.611300\n",
      "62        349658.890804     325000   7.587351\n"
     ]
    }
   ],
   "source": [
    "lr3 = test_model(train, test, features)"
   ]
  },
  {
   "cell_type": "markdown",
   "metadata": {},
   "source": [
    "# Average error stayed at 10%"
   ]
  },
  {
   "cell_type": "markdown",
   "metadata": {},
   "source": [
    "Now lets explore correlation and try to remove all the noise from data"
   ]
  },
  {
   "cell_type": "code",
   "execution_count": 329,
   "metadata": {},
   "outputs": [],
   "source": [
    "correlated_df = feature_edited_2_df.copy()"
   ]
  },
  {
   "cell_type": "code",
   "execution_count": 330,
   "metadata": {},
   "outputs": [],
   "source": [
    "correlations = correlated_df.corr()['SalePrice'].abs().sort_values(ascending=False)"
   ]
  },
  {
   "cell_type": "markdown",
   "metadata": {},
   "source": [
    "Lets assume that correlation below 0.15 is dismissable"
   ]
  },
  {
   "cell_type": "code",
   "execution_count": 331,
   "metadata": {},
   "outputs": [],
   "source": [
    "correlations = correlations[correlations > 0.15]"
   ]
  },
  {
   "cell_type": "code",
   "execution_count": 332,
   "metadata": {},
   "outputs": [
    {
     "data": {
      "text/plain": [
       "SalePrice               1.000000\n",
       "Overall Qual            0.799262\n",
       "Gr Liv Area             0.706780\n",
       "Garage Cars             0.647861\n",
       "Garage Area             0.640385\n",
       "Total Bsmt SF           0.632105\n",
       "1st Flr SF              0.621676\n",
       "Bsmt Qual_Ex            0.593567\n",
       "Exter Qual_TA           0.590897\n",
       "Yr Sold                 0.558907\n",
       "Full Bath               0.545604\n",
       "Kitchen Qual_Ex         0.537561\n",
       "Kitchen Qual_TA         0.526721\n",
       "Foundation_PConc        0.520966\n",
       "Mas Vnr Area            0.505784\n",
       "TotRms AbvGrd           0.495474\n",
       "Exter Qual_Ex           0.480477\n",
       "Fireplaces              0.474558\n",
       "BsmtFin Type 1_GLQ      0.455326\n",
       "Heating QC_Ex           0.454553\n",
       "Bsmt Qual_TA            0.452487\n",
       "Exter Qual_Gd           0.446489\n",
       "Neighborhood_NridgHt    0.433299\n",
       "BsmtFin SF 1            0.432794\n",
       "Garage Finish_Fin       0.424902\n",
       "Garage Finish_Unf       0.421876\n",
       "Mas Vnr Type_None       0.403962\n",
       "Garage Type_Detchd      0.365074\n",
       "60                      0.362327\n",
       "Bsmt Exposure_Gd        0.355665\n",
       "                          ...   \n",
       "Roof Style_Gable        0.256250\n",
       "Garage Qual_TA          0.255691\n",
       "Mas Vnr Type_BrkFace    0.246106\n",
       "MS Zoning_RL            0.244217\n",
       "Year Remod/Add          0.240168\n",
       "Electrical_SBrkr        0.239633\n",
       "Neighborhood_StoneBr    0.239009\n",
       "30                      0.234890\n",
       "Foundation_BrkTil       0.227316\n",
       "Garage Yr Blt           0.226853\n",
       "Garage Type_BuiltIn     0.223439\n",
       "Bsmt Qual_Gd            0.221187\n",
       "House Style_2Story      0.213645\n",
       "Neighborhood_OldTown    0.211944\n",
       "Sale Type_WD            0.204369\n",
       "Electrical_FuseA        0.191884\n",
       "Land Contour_HLS        0.189201\n",
       "Neighborhood_NAmes      0.188632\n",
       "House Style_1.5Fin      0.187670\n",
       "Bsmt Unf SF             0.182805\n",
       "50                      0.178901\n",
       "Neighborhood_IDOTRR     0.174641\n",
       "Exterior 1st_Wd Sdng    0.173256\n",
       "Garage Finish_RFn       0.169175\n",
       "Exterior 2nd_Wd Sdng    0.167787\n",
       "Neighborhood_Edwards    0.166533\n",
       "Garage Qual_Fa          0.165754\n",
       "Neighborhood_Somerst    0.157593\n",
       "BsmtFin Type 1_Rec      0.157168\n",
       "Bsmt Qual_Fa            0.156773\n",
       "Name: SalePrice, Length: 86, dtype: float64"
      ]
     },
     "execution_count": 332,
     "metadata": {},
     "output_type": "execute_result"
    }
   ],
   "source": [
    "correlations"
   ]
  },
  {
   "cell_type": "code",
   "execution_count": 333,
   "metadata": {},
   "outputs": [],
   "source": [
    "import seaborn as sns\n",
    "import matplotlib.pyplot as plt\n",
    "\n",
    "%matplotlib inline"
   ]
  },
  {
   "cell_type": "code",
   "execution_count": 334,
   "metadata": {},
   "outputs": [],
   "source": [
    "correlated_df = correlated_df[correlations.index]"
   ]
  },
  {
   "cell_type": "code",
   "execution_count": 335,
   "metadata": {},
   "outputs": [
    {
     "data": {
      "text/html": [
       "<div>\n",
       "<style>\n",
       "    .dataframe thead tr:only-child th {\n",
       "        text-align: right;\n",
       "    }\n",
       "\n",
       "    .dataframe thead th {\n",
       "        text-align: left;\n",
       "    }\n",
       "\n",
       "    .dataframe tbody tr th {\n",
       "        vertical-align: top;\n",
       "    }\n",
       "</style>\n",
       "<table border=\"1\" class=\"dataframe\">\n",
       "  <thead>\n",
       "    <tr style=\"text-align: right;\">\n",
       "      <th></th>\n",
       "      <th>SalePrice</th>\n",
       "      <th>Overall Qual</th>\n",
       "      <th>Gr Liv Area</th>\n",
       "      <th>Garage Cars</th>\n",
       "      <th>Garage Area</th>\n",
       "      <th>Total Bsmt SF</th>\n",
       "      <th>1st Flr SF</th>\n",
       "      <th>Bsmt Qual_Ex</th>\n",
       "      <th>Exter Qual_TA</th>\n",
       "      <th>Yr Sold</th>\n",
       "      <th>...</th>\n",
       "      <th>50</th>\n",
       "      <th>Neighborhood_IDOTRR</th>\n",
       "      <th>Exterior 1st_Wd Sdng</th>\n",
       "      <th>Garage Finish_RFn</th>\n",
       "      <th>Exterior 2nd_Wd Sdng</th>\n",
       "      <th>Neighborhood_Edwards</th>\n",
       "      <th>Garage Qual_Fa</th>\n",
       "      <th>Neighborhood_Somerst</th>\n",
       "      <th>BsmtFin Type 1_Rec</th>\n",
       "      <th>Bsmt Qual_Fa</th>\n",
       "    </tr>\n",
       "  </thead>\n",
       "  <tbody>\n",
       "    <tr>\n",
       "      <th>0</th>\n",
       "      <td>215000</td>\n",
       "      <td>6</td>\n",
       "      <td>1656</td>\n",
       "      <td>2.0</td>\n",
       "      <td>528.0</td>\n",
       "      <td>1080.0</td>\n",
       "      <td>1656</td>\n",
       "      <td>0</td>\n",
       "      <td>1</td>\n",
       "      <td>50</td>\n",
       "      <td>...</td>\n",
       "      <td>0</td>\n",
       "      <td>0</td>\n",
       "      <td>0</td>\n",
       "      <td>0</td>\n",
       "      <td>0</td>\n",
       "      <td>0</td>\n",
       "      <td>0</td>\n",
       "      <td>0</td>\n",
       "      <td>0</td>\n",
       "      <td>0</td>\n",
       "    </tr>\n",
       "    <tr>\n",
       "      <th>1</th>\n",
       "      <td>105000</td>\n",
       "      <td>5</td>\n",
       "      <td>896</td>\n",
       "      <td>1.0</td>\n",
       "      <td>730.0</td>\n",
       "      <td>882.0</td>\n",
       "      <td>896</td>\n",
       "      <td>0</td>\n",
       "      <td>1</td>\n",
       "      <td>49</td>\n",
       "      <td>...</td>\n",
       "      <td>0</td>\n",
       "      <td>0</td>\n",
       "      <td>0</td>\n",
       "      <td>0</td>\n",
       "      <td>0</td>\n",
       "      <td>0</td>\n",
       "      <td>0</td>\n",
       "      <td>0</td>\n",
       "      <td>1</td>\n",
       "      <td>0</td>\n",
       "    </tr>\n",
       "    <tr>\n",
       "      <th>2</th>\n",
       "      <td>172000</td>\n",
       "      <td>6</td>\n",
       "      <td>1329</td>\n",
       "      <td>1.0</td>\n",
       "      <td>312.0</td>\n",
       "      <td>1329.0</td>\n",
       "      <td>1329</td>\n",
       "      <td>0</td>\n",
       "      <td>1</td>\n",
       "      <td>52</td>\n",
       "      <td>...</td>\n",
       "      <td>0</td>\n",
       "      <td>0</td>\n",
       "      <td>1</td>\n",
       "      <td>0</td>\n",
       "      <td>1</td>\n",
       "      <td>0</td>\n",
       "      <td>0</td>\n",
       "      <td>0</td>\n",
       "      <td>0</td>\n",
       "      <td>0</td>\n",
       "    </tr>\n",
       "    <tr>\n",
       "      <th>3</th>\n",
       "      <td>244000</td>\n",
       "      <td>7</td>\n",
       "      <td>2110</td>\n",
       "      <td>2.0</td>\n",
       "      <td>522.0</td>\n",
       "      <td>2110.0</td>\n",
       "      <td>2110</td>\n",
       "      <td>0</td>\n",
       "      <td>0</td>\n",
       "      <td>42</td>\n",
       "      <td>...</td>\n",
       "      <td>0</td>\n",
       "      <td>0</td>\n",
       "      <td>0</td>\n",
       "      <td>0</td>\n",
       "      <td>0</td>\n",
       "      <td>0</td>\n",
       "      <td>0</td>\n",
       "      <td>0</td>\n",
       "      <td>0</td>\n",
       "      <td>0</td>\n",
       "    </tr>\n",
       "    <tr>\n",
       "      <th>4</th>\n",
       "      <td>189900</td>\n",
       "      <td>5</td>\n",
       "      <td>1629</td>\n",
       "      <td>2.0</td>\n",
       "      <td>482.0</td>\n",
       "      <td>928.0</td>\n",
       "      <td>928</td>\n",
       "      <td>0</td>\n",
       "      <td>1</td>\n",
       "      <td>13</td>\n",
       "      <td>...</td>\n",
       "      <td>0</td>\n",
       "      <td>0</td>\n",
       "      <td>0</td>\n",
       "      <td>0</td>\n",
       "      <td>0</td>\n",
       "      <td>0</td>\n",
       "      <td>0</td>\n",
       "      <td>0</td>\n",
       "      <td>0</td>\n",
       "      <td>0</td>\n",
       "    </tr>\n",
       "  </tbody>\n",
       "</table>\n",
       "<p>5 rows × 86 columns</p>\n",
       "</div>"
      ],
      "text/plain": [
       "   SalePrice  Overall Qual  Gr Liv Area  Garage Cars  Garage Area  \\\n",
       "0     215000             6         1656          2.0        528.0   \n",
       "1     105000             5          896          1.0        730.0   \n",
       "2     172000             6         1329          1.0        312.0   \n",
       "3     244000             7         2110          2.0        522.0   \n",
       "4     189900             5         1629          2.0        482.0   \n",
       "\n",
       "   Total Bsmt SF  1st Flr SF  Bsmt Qual_Ex  Exter Qual_TA  Yr Sold  \\\n",
       "0         1080.0        1656             0              1       50   \n",
       "1          882.0         896             0              1       49   \n",
       "2         1329.0        1329             0              1       52   \n",
       "3         2110.0        2110             0              0       42   \n",
       "4          928.0         928             0              1       13   \n",
       "\n",
       "       ...       50  Neighborhood_IDOTRR  Exterior 1st_Wd Sdng  \\\n",
       "0      ...        0                    0                     0   \n",
       "1      ...        0                    0                     0   \n",
       "2      ...        0                    0                     1   \n",
       "3      ...        0                    0                     0   \n",
       "4      ...        0                    0                     0   \n",
       "\n",
       "   Garage Finish_RFn  Exterior 2nd_Wd Sdng  Neighborhood_Edwards  \\\n",
       "0                  0                     0                     0   \n",
       "1                  0                     0                     0   \n",
       "2                  0                     1                     0   \n",
       "3                  0                     0                     0   \n",
       "4                  0                     0                     0   \n",
       "\n",
       "   Garage Qual_Fa  Neighborhood_Somerst  BsmtFin Type 1_Rec  Bsmt Qual_Fa  \n",
       "0               0                     0                   0             0  \n",
       "1               0                     0                   1             0  \n",
       "2               0                     0                   0             0  \n",
       "3               0                     0                   0             0  \n",
       "4               0                     0                   0             0  \n",
       "\n",
       "[5 rows x 86 columns]"
      ]
     },
     "execution_count": 335,
     "metadata": {},
     "output_type": "execute_result"
    }
   ],
   "source": [
    "correlated_df.head()"
   ]
  },
  {
   "cell_type": "markdown",
   "metadata": {},
   "source": [
    "Lets test with strongly correlated data"
   ]
  },
  {
   "cell_type": "code",
   "execution_count": 344,
   "metadata": {},
   "outputs": [],
   "source": [
    "train, test = get_train_and_test_sets(correlated_df)\n",
    "features = get_features(correlated_df)"
   ]
  },
  {
   "cell_type": "code",
   "execution_count": 345,
   "metadata": {},
   "outputs": [
    {
     "name": "stdout",
     "output_type": "stream",
     "text": [
      "RMSE TRAIN AND TEST:\n",
      "28176.2166065 27828.4029427\n",
      "AVERAGE ERROR: 10.139621149649104\n",
      "    Predicted SalePrice  SalePrice   Error, %\n",
      "3         259266.592530     244000   6.256800\n",
      "15        449281.843474     538000  16.490364\n",
      "20        190177.394490     190000   0.093366\n",
      "26        117505.712908     126000   6.741498\n",
      "38        388446.073868     395192   1.707000\n",
      "42        308242.270090     259000  19.012459\n",
      "48        336625.273738     319900   5.228282\n",
      "62        348626.676909     325000   7.269747\n",
      "63        304575.792555     290000   5.026135\n",
      "68        204446.160048     215200   4.997138\n"
     ]
    }
   ],
   "source": [
    "lr4 = test_model(train, test, features)"
   ]
  },
  {
   "cell_type": "markdown",
   "metadata": {},
   "source": [
    "# Average error remained at ~10%"
   ]
  },
  {
   "cell_type": "markdown",
   "metadata": {},
   "source": [
    "But thank to the latest improvements the solution should've become more reliable"
   ]
  },
  {
   "cell_type": "code",
   "execution_count": null,
   "metadata": {},
   "outputs": [],
   "source": []
  }
 ],
 "metadata": {
  "kernelspec": {
   "display_name": "Python 3",
   "language": "python",
   "name": "python3"
  },
  "language_info": {
   "codemirror_mode": {
    "name": "ipython",
    "version": 3
   },
   "file_extension": ".py",
   "mimetype": "text/x-python",
   "name": "python",
   "nbconvert_exporter": "python",
   "pygments_lexer": "ipython3",
   "version": "3.6.2"
  }
 },
 "nbformat": 4,
 "nbformat_minor": 2
}
