{
 "cells": [
  {
   "cell_type": "code",
   "execution_count": 1,
   "metadata": {
    "collapsed": true
   },
   "outputs": [],
   "source": [
    "import pandas as pd\n",
    "import sqlite3\n",
    "\n",
    "%matplotlib inline"
   ]
  },
  {
   "cell_type": "code",
   "execution_count": 2,
   "metadata": {
    "collapsed": true
   },
   "outputs": [],
   "source": [
    "def run_query(query, table='chinook.db'):\n",
    "    with sqlite3.connect(table) as conn:\n",
    "        return pd.read_sql(query, conn)\n",
    "\n",
    "def run_command(command, table='chinook.db'):\n",
    "    with sqlite3.connect(table) as conn:\n",
    "        conn.isolation_level = None\n",
    "        conn.execute(command)\n",
    "        \n",
    "def show_tables():\n",
    "    query = \"\"\"\n",
    "    SELECT\n",
    "        name,\n",
    "        type\n",
    "    FROM sqlite_master\n",
    "    WHERE type IN (\"table\",\"view\");\n",
    "    \"\"\"\n",
    "    return run_query(query)"
   ]
  },
  {
   "cell_type": "code",
   "execution_count": 3,
   "metadata": {
    "collapsed": false
   },
   "outputs": [
    {
     "data": {
      "text/html": [
       "<div>\n",
       "<table border=\"1\" class=\"dataframe\">\n",
       "  <thead>\n",
       "    <tr style=\"text-align: right;\">\n",
       "      <th></th>\n",
       "      <th>name</th>\n",
       "      <th>type</th>\n",
       "    </tr>\n",
       "  </thead>\n",
       "  <tbody>\n",
       "    <tr>\n",
       "      <th>0</th>\n",
       "      <td>album</td>\n",
       "      <td>table</td>\n",
       "    </tr>\n",
       "    <tr>\n",
       "      <th>1</th>\n",
       "      <td>artist</td>\n",
       "      <td>table</td>\n",
       "    </tr>\n",
       "    <tr>\n",
       "      <th>2</th>\n",
       "      <td>customer</td>\n",
       "      <td>table</td>\n",
       "    </tr>\n",
       "    <tr>\n",
       "      <th>3</th>\n",
       "      <td>employee</td>\n",
       "      <td>table</td>\n",
       "    </tr>\n",
       "    <tr>\n",
       "      <th>4</th>\n",
       "      <td>genre</td>\n",
       "      <td>table</td>\n",
       "    </tr>\n",
       "    <tr>\n",
       "      <th>5</th>\n",
       "      <td>invoice</td>\n",
       "      <td>table</td>\n",
       "    </tr>\n",
       "    <tr>\n",
       "      <th>6</th>\n",
       "      <td>invoice_line</td>\n",
       "      <td>table</td>\n",
       "    </tr>\n",
       "    <tr>\n",
       "      <th>7</th>\n",
       "      <td>media_type</td>\n",
       "      <td>table</td>\n",
       "    </tr>\n",
       "    <tr>\n",
       "      <th>8</th>\n",
       "      <td>playlist</td>\n",
       "      <td>table</td>\n",
       "    </tr>\n",
       "    <tr>\n",
       "      <th>9</th>\n",
       "      <td>playlist_track</td>\n",
       "      <td>table</td>\n",
       "    </tr>\n",
       "    <tr>\n",
       "      <th>10</th>\n",
       "      <td>track</td>\n",
       "      <td>table</td>\n",
       "    </tr>\n",
       "    <tr>\n",
       "      <th>11</th>\n",
       "      <td>sales</td>\n",
       "      <td>view</td>\n",
       "    </tr>\n",
       "  </tbody>\n",
       "</table>\n",
       "</div>"
      ],
      "text/plain": [
       "              name   type\n",
       "0            album  table\n",
       "1           artist  table\n",
       "2         customer  table\n",
       "3         employee  table\n",
       "4            genre  table\n",
       "5          invoice  table\n",
       "6     invoice_line  table\n",
       "7       media_type  table\n",
       "8         playlist  table\n",
       "9   playlist_track  table\n",
       "10           track  table\n",
       "11           sales   view"
      ]
     },
     "execution_count": 3,
     "metadata": {},
     "output_type": "execute_result"
    }
   ],
   "source": [
    "show_tables()"
   ]
  },
  {
   "cell_type": "markdown",
   "metadata": {},
   "source": [
    "# Look for the most popular genres"
   ]
  },
  {
   "cell_type": "code",
   "execution_count": 4,
   "metadata": {
    "collapsed": false
   },
   "outputs": [],
   "source": [
    "query = \"\"\"\n",
    "with total_sold_cte as (\n",
    "    select sum(invoice_line.quantity) as total\n",
    "    from invoice_line\n",
    ")\n",
    "select \n",
    "    g.name as genre,\n",
    "    sum(il.quantity) as tracks_sold,\n",
    "    cast(sum(il.quantity) as float) / (select * from total_sold_cte) * 100 as percentage \n",
    "from genre g\n",
    "join track t on t.genre_id = g.genre_id\n",
    "join invoice_line il on il.track_id = t.track_id\n",
    "group by g.name\n",
    "order by tracks_sold desc\n",
    "\"\"\"\n",
    "genre_df = run_query(query)\n",
    "genre_df.set_index('genre', drop=True, inplace=True)"
   ]
  },
  {
   "cell_type": "code",
   "execution_count": 5,
   "metadata": {
    "collapsed": false
   },
   "outputs": [
    {
     "data": {
      "text/html": [
       "<div>\n",
       "<table border=\"1\" class=\"dataframe\">\n",
       "  <thead>\n",
       "    <tr style=\"text-align: right;\">\n",
       "      <th></th>\n",
       "      <th>tracks_sold</th>\n",
       "      <th>percentage</th>\n",
       "    </tr>\n",
       "    <tr>\n",
       "      <th>genre</th>\n",
       "      <th></th>\n",
       "      <th></th>\n",
       "    </tr>\n",
       "  </thead>\n",
       "  <tbody>\n",
       "    <tr>\n",
       "      <th>Rock</th>\n",
       "      <td>2635</td>\n",
       "      <td>55.392054</td>\n",
       "    </tr>\n",
       "    <tr>\n",
       "      <th>Metal</th>\n",
       "      <td>619</td>\n",
       "      <td>13.012403</td>\n",
       "    </tr>\n",
       "    <tr>\n",
       "      <th>Alternative &amp; Punk</th>\n",
       "      <td>492</td>\n",
       "      <td>10.342653</td>\n",
       "    </tr>\n",
       "    <tr>\n",
       "      <th>Latin</th>\n",
       "      <td>167</td>\n",
       "      <td>3.510616</td>\n",
       "    </tr>\n",
       "    <tr>\n",
       "      <th>R&amp;B/Soul</th>\n",
       "      <td>159</td>\n",
       "      <td>3.342443</td>\n",
       "    </tr>\n",
       "  </tbody>\n",
       "</table>\n",
       "</div>"
      ],
      "text/plain": [
       "                    tracks_sold  percentage\n",
       "genre                                      \n",
       "Rock                       2635   55.392054\n",
       "Metal                       619   13.012403\n",
       "Alternative & Punk          492   10.342653\n",
       "Latin                       167    3.510616\n",
       "R&B/Soul                    159    3.342443"
      ]
     },
     "execution_count": 5,
     "metadata": {},
     "output_type": "execute_result"
    }
   ],
   "source": [
    "genre_df.head()"
   ]
  },
  {
   "cell_type": "code",
   "execution_count": 6,
   "metadata": {
    "collapsed": false
   },
   "outputs": [
    {
     "data": {
      "text/plain": [
       "<matplotlib.axes._subplots.AxesSubplot at 0x7f5ae4da86d8>"
      ]
     },
     "execution_count": 6,
     "metadata": {},
     "output_type": "execute_result"
    },
    {
     "data": {
      "image/png": "[encoded data removed]",
      "text/plain": [
       "<matplotlib.figure.Figure at 0x7f5b4412e9e8>"
      ]
     },
     "metadata": {},
     "output_type": "display_data"
    }
   ],
   "source": [
    "genre_df['tracks_sold'].plot.bar()"
   ]
  },
  {
   "cell_type": "markdown",
   "metadata": {},
   "source": [
    "The most popular genres are Rock, Metal and Alternative & Punk, according to the provided data."
   ]
  },
  {
   "cell_type": "markdown",
   "metadata": {},
   "source": [
    "# Look for the most valuable salesman"
   ]
  },
  {
   "cell_type": "code",
   "execution_count": 7,
   "metadata": {
    "collapsed": false
   },
   "outputs": [],
   "source": [
    "query = \"\"\"\n",
    "with sales as (\n",
    "    select\n",
    "        e.first_name || \" \" || e.last_name as employee_name,\n",
    "        sum(i.total) as total_revenue,\n",
    "        count(i.invoice_id) as total_sales,\n",
    "        (julianday('now') - julianday(e.hire_date)) as days_employeed\n",
    "    from invoice i\n",
    "    left join customer c on i.customer_id = c.customer_id\n",
    "    left join employee e on e.employee_id = c.support_rep_id\n",
    "    group by employee_name\n",
    "    )\n",
    "select \n",
    "    s.*,\n",
    "    cast(s.total_revenue as float) / s.days_employeed as daily_revenue,\n",
    "    cast(s.total_sales as float) / s.days_employeed as daily_sales\n",
    "from sales s;\n",
    "\"\"\"\n",
    "sales_df = run_query(query)\n",
    "sales_df.set_index('employee_name', drop=True, inplace=True)"
   ]
  },
  {
   "cell_type": "code",
   "execution_count": 8,
   "metadata": {
    "collapsed": false
   },
   "outputs": [
    {
     "data": {
      "text/html": [
       "<div>\n",
       "<table border=\"1\" class=\"dataframe\">\n",
       "  <thead>\n",
       "    <tr style=\"text-align: right;\">\n",
       "      <th></th>\n",
       "      <th>total_revenue</th>\n",
       "      <th>total_sales</th>\n",
       "      <th>days_employeed</th>\n",
       "      <th>daily_revenue</th>\n",
       "      <th>daily_sales</th>\n",
       "    </tr>\n",
       "    <tr>\n",
       "      <th>employee_name</th>\n",
       "      <th></th>\n",
       "      <th></th>\n",
       "      <th></th>\n",
       "      <th></th>\n",
       "      <th></th>\n",
       "    </tr>\n",
       "  </thead>\n",
       "  <tbody>\n",
       "    <tr>\n",
       "      <th>Jane Peacock</th>\n",
       "      <td>1731.51</td>\n",
       "      <td>212</td>\n",
       "      <td>373.714805</td>\n",
       "      <td>4.633239</td>\n",
       "      <td>0.567277</td>\n",
       "    </tr>\n",
       "    <tr>\n",
       "      <th>Margaret Park</th>\n",
       "      <td>1584.00</td>\n",
       "      <td>214</td>\n",
       "      <td>341.714805</td>\n",
       "      <td>4.635444</td>\n",
       "      <td>0.626253</td>\n",
       "    </tr>\n",
       "    <tr>\n",
       "      <th>Steve Johnson</th>\n",
       "      <td>1393.92</td>\n",
       "      <td>188</td>\n",
       "      <td>174.714805</td>\n",
       "      <td>7.978259</td>\n",
       "      <td>1.076039</td>\n",
       "    </tr>\n",
       "  </tbody>\n",
       "</table>\n",
       "</div>"
      ],
      "text/plain": [
       "               total_revenue  total_sales  days_employeed  daily_revenue  \\\n",
       "employee_name                                                              \n",
       "Jane Peacock         1731.51          212      373.714805       4.633239   \n",
       "Margaret Park        1584.00          214      341.714805       4.635444   \n",
       "Steve Johnson        1393.92          188      174.714805       7.978259   \n",
       "\n",
       "               daily_sales  \n",
       "employee_name               \n",
       "Jane Peacock      0.567277  \n",
       "Margaret Park     0.626253  \n",
       "Steve Johnson     1.076039  "
      ]
     },
     "execution_count": 8,
     "metadata": {},
     "output_type": "execute_result"
    }
   ],
   "source": [
    "sales_df.head(10)"
   ]
  },
  {
   "cell_type": "code",
   "execution_count": 9,
   "metadata": {
    "collapsed": false
   },
   "outputs": [
    {
     "data": {
      "text/plain": [
       "array([<matplotlib.axes._subplots.AxesSubplot object at 0x7f5b44099630>,\n",
       "       <matplotlib.axes._subplots.AxesSubplot object at 0x7f5ae215c518>], dtype=object)"
      ]
     },
     "execution_count": 9,
     "metadata": {},
     "output_type": "execute_result"
    },
    {
     "data": {
      "image/png": "[encoded data removed]",
      "text/plain": [
       "<matplotlib.figure.Figure at 0x7f5b440c7748>"
      ]
     },
     "metadata": {},
     "output_type": "display_data"
    }
   ],
   "source": [
    "sales_df[['total_revenue', 'total_sales']].plot(kind='bar',grid=True,subplots=True,sharex=True,legend=False) "
   ]
  },
  {
   "cell_type": "code",
   "execution_count": 10,
   "metadata": {
    "collapsed": false
   },
   "outputs": [
    {
     "data": {
      "image/png": "[encoded data removed]",
      "text/plain": [
       "<matplotlib.figure.Figure at 0x7f5ae2152080>"
      ]
     },
     "metadata": {},
     "output_type": "display_data"
    }
   ],
   "source": [
    "sales_df[['daily_revenue','daily_sales']].plot(kind='bar',grid=True,subplots=True,sharex=True,legend=False); "
   ]
  },
  {
   "cell_type": "markdown",
   "metadata": {},
   "source": [
    "The most profitable sales manager so far was Jane Peacock, but that can be explained by the fact that she works at that place longer than anybody.\n",
    "\n",
    "The most promising sales manager is Steve Johnson, who has the lowest total revenue due to the recent employment, but his daily stats are double of other employees."
   ]
  },
  {
   "cell_type": "markdown",
   "metadata": {},
   "source": [
    "# Analyzing the sales data for customers from every country"
   ]
  },
  {
   "cell_type": "code",
   "execution_count": 11,
   "metadata": {
    "collapsed": false
   },
   "outputs": [],
   "source": [
    "query=\"\"\"\n",
    "with countries_cte as (\n",
    "    select \n",
    "        c.country,\n",
    "        count(c.customer_id) as number_of_customers,\n",
    "        sum(i.total) as total_revenue,\n",
    "        avg(i.total) as avg_revenue_per_customer,\n",
    "        cast(avg(il.unit_price) as float) as avg_order_value\n",
    "    from customer c\n",
    "    join invoice i on c.customer_id = i.customer_id\n",
    "    join invoice_line il on i.invoice_id = il.invoice_id\n",
    "    group by c.country\n",
    "),\n",
    "countries_sorted_cte as (\n",
    "    select \n",
    "        c.*,\n",
    "        case \n",
    "            when c.number_of_customers < 2 then 1\n",
    "            else 0\n",
    "        end as sort\n",
    "    from countries_cte c\n",
    ")\n",
    " \n",
    "select \n",
    "    c.*\n",
    "from countries_sorted_cte cs\n",
    "join countries_cte c on cs.country = c.country\n",
    "order by cs.sort, c.total_revenue desc;\n",
    "\"\"\"\n",
    "countries_df = run_query(query)\n",
    "countries_df.set_index('country', drop=True, inplace=True)\n",
    "#had to deal with some bug\n",
    "countries_df['avg_order_value'] = countries_df['avg_order_value'].astype('str').astype('float')"
   ]
  },
  {
   "cell_type": "code",
   "execution_count": 12,
   "metadata": {
    "collapsed": false
   },
   "outputs": [
    {
     "data": {
      "text/html": [
       "<div>\n",
       "<table border=\"1\" class=\"dataframe\">\n",
       "  <thead>\n",
       "    <tr style=\"text-align: right;\">\n",
       "      <th></th>\n",
       "      <th>number_of_customers</th>\n",
       "      <th>total_revenue</th>\n",
       "      <th>avg_revenue_per_customer</th>\n",
       "      <th>avg_order_value</th>\n",
       "    </tr>\n",
       "    <tr>\n",
       "      <th>country</th>\n",
       "      <th></th>\n",
       "      <th></th>\n",
       "      <th></th>\n",
       "      <th></th>\n",
       "    </tr>\n",
       "  </thead>\n",
       "  <tbody>\n",
       "    <tr>\n",
       "      <th>USA</th>\n",
       "      <td>1051</td>\n",
       "      <td>10405.89</td>\n",
       "      <td>9.900942</td>\n",
       "      <td>0.99</td>\n",
       "    </tr>\n",
       "    <tr>\n",
       "      <th>Canada</th>\n",
       "      <td>541</td>\n",
       "      <td>5489.55</td>\n",
       "      <td>10.147043</td>\n",
       "      <td>0.99</td>\n",
       "    </tr>\n",
       "    <tr>\n",
       "      <th>Brazil</th>\n",
       "      <td>432</td>\n",
       "      <td>4059.00</td>\n",
       "      <td>9.395833</td>\n",
       "      <td>0.99</td>\n",
       "    </tr>\n",
       "    <tr>\n",
       "      <th>France</th>\n",
       "      <td>393</td>\n",
       "      <td>3972.87</td>\n",
       "      <td>10.109084</td>\n",
       "      <td>0.99</td>\n",
       "    </tr>\n",
       "    <tr>\n",
       "      <th>Germany</th>\n",
       "      <td>338</td>\n",
       "      <td>3441.24</td>\n",
       "      <td>10.181183</td>\n",
       "      <td>0.99</td>\n",
       "    </tr>\n",
       "    <tr>\n",
       "      <th>Czech Republic</th>\n",
       "      <td>276</td>\n",
       "      <td>3183.84</td>\n",
       "      <td>11.535652</td>\n",
       "      <td>0.99</td>\n",
       "    </tr>\n",
       "    <tr>\n",
       "      <th>United Kingdom</th>\n",
       "      <td>248</td>\n",
       "      <td>2498.76</td>\n",
       "      <td>10.075645</td>\n",
       "      <td>0.99</td>\n",
       "    </tr>\n",
       "    <tr>\n",
       "      <th>India</th>\n",
       "      <td>185</td>\n",
       "      <td>1887.93</td>\n",
       "      <td>10.205027</td>\n",
       "      <td>0.99</td>\n",
       "    </tr>\n",
       "    <tr>\n",
       "      <th>Portugal</th>\n",
       "      <td>187</td>\n",
       "      <td>1755.27</td>\n",
       "      <td>9.386471</td>\n",
       "      <td>0.99</td>\n",
       "    </tr>\n",
       "    <tr>\n",
       "      <th>Ireland</th>\n",
       "      <td>116</td>\n",
       "      <td>1433.52</td>\n",
       "      <td>12.357931</td>\n",
       "      <td>0.99</td>\n",
       "    </tr>\n",
       "  </tbody>\n",
       "</table>\n",
       "</div>"
      ],
      "text/plain": [
       "                number_of_customers  total_revenue  avg_revenue_per_customer  \\\n",
       "country                                                                        \n",
       "USA                            1051       10405.89                  9.900942   \n",
       "Canada                          541        5489.55                 10.147043   \n",
       "Brazil                          432        4059.00                  9.395833   \n",
       "France                          393        3972.87                 10.109084   \n",
       "Germany                         338        3441.24                 10.181183   \n",
       "Czech Republic                  276        3183.84                 11.535652   \n",
       "United Kingdom                  248        2498.76                 10.075645   \n",
       "India                           185        1887.93                 10.205027   \n",
       "Portugal                        187        1755.27                  9.386471   \n",
       "Ireland                         116        1433.52                 12.357931   \n",
       "\n",
       "                avg_order_value  \n",
       "country                          \n",
       "USA                        0.99  \n",
       "Canada                     0.99  \n",
       "Brazil                     0.99  \n",
       "France                     0.99  \n",
       "Germany                    0.99  \n",
       "Czech Republic             0.99  \n",
       "United Kingdom             0.99  \n",
       "India                      0.99  \n",
       "Portugal                   0.99  \n",
       "Ireland                    0.99  "
      ]
     },
     "execution_count": 12,
     "metadata": {},
     "output_type": "execute_result"
    }
   ],
   "source": [
    "countries_df.head(10)"
   ]
  },
  {
   "cell_type": "code",
   "execution_count": 13,
   "metadata": {
    "collapsed": false
   },
   "outputs": [
    {
     "data": {
      "text/plain": [
       "(24, 4)"
      ]
     },
     "execution_count": 13,
     "metadata": {},
     "output_type": "execute_result"
    }
   ],
   "source": [
    "countries_df.shape"
   ]
  },
  {
   "cell_type": "code",
   "execution_count": 14,
   "metadata": {
    "collapsed": false
   },
   "outputs": [
    {
     "data": {
      "text/plain": [
       "<matplotlib.axes._subplots.AxesSubplot at 0x7f5ae20672e8>"
      ]
     },
     "execution_count": 14,
     "metadata": {},
     "output_type": "execute_result"
    },
    {
     "data": {
      "image/png": "[encoded data removed]",
      "text/plain": [
       "<matplotlib.figure.Figure at 0x7f5ae2026e80>"
      ]
     },
     "metadata": {},
     "output_type": "display_data"
    }
   ],
   "source": [
    "countries_df['total_revenue'].plot.bar()\n",
    "#countries_df[['number_of_customers','total_revenue']].plot(kind='bar',grid=False,subplots=True,sharex=True,legend=False); "
   ]
  },
  {
   "cell_type": "code",
   "execution_count": 15,
   "metadata": {
    "collapsed": false
   },
   "outputs": [
    {
     "data": {
      "text/plain": [
       "0.99    24\n",
       "Name: avg_order_value, dtype: int64"
      ]
     },
     "execution_count": 15,
     "metadata": {},
     "output_type": "execute_result"
    }
   ],
   "source": [
    "countries_df['avg_order_value'].value_counts()"
   ]
  },
  {
   "cell_type": "code",
   "execution_count": 16,
   "metadata": {
    "collapsed": false
   },
   "outputs": [
    {
     "data": {
      "text/plain": [
       "<matplotlib.axes._subplots.AxesSubplot at 0x7f5ae20899b0>"
      ]
     },
     "execution_count": 16,
     "metadata": {},
     "output_type": "execute_result"
    },
    {
     "data": {
      "image/png": "[encoded data removed]",
      "text/plain": [
       "<matplotlib.figure.Figure at 0x7f5ae2055048>"
      ]
     },
     "metadata": {},
     "output_type": "display_data"
    }
   ],
   "source": [
    "countries_df.plot(x='total_revenue',y='number_of_customers',kind='scatter')"
   ]
  },
  {
   "cell_type": "code",
   "execution_count": 17,
   "metadata": {
    "collapsed": false
   },
   "outputs": [
    {
     "data": {
      "text/plain": [
       "<matplotlib.axes._subplots.AxesSubplot at 0x7f5ae210eb00>"
      ]
     },
     "execution_count": 17,
     "metadata": {},
     "output_type": "execute_result"
    },
    {
     "data": {
      "image/png": "[encoded data removed]",
      "text/plain": [
       "<matplotlib.figure.Figure at 0x7f5b594d7208>"
      ]
     },
     "metadata": {},
     "output_type": "display_data"
    }
   ],
   "source": [
    "countries_df.plot(x='total_revenue',y='avg_revenue_per_customer',kind='scatter')"
   ]
  },
  {
   "cell_type": "code",
   "execution_count": 18,
   "metadata": {
    "collapsed": false
   },
   "outputs": [
    {
     "data": {
      "text/plain": [
       "<matplotlib.axes._subplots.AxesSubplot at 0x7f5b594fc630>"
      ]
     },
     "execution_count": 18,
     "metadata": {},
     "output_type": "execute_result"
    },
    {
     "data": {
      "image/png": "[encoded data removed]",
      "text/plain": [
       "<matplotlib.figure.Figure at 0x7f5b58c83780>"
      ]
     },
     "metadata": {},
     "output_type": "display_data"
    }
   ],
   "source": [
    "countries_df.plot(x='number_of_customers',y='avg_revenue_per_customer',kind='scatter')"
   ]
  },
  {
   "cell_type": "code",
   "execution_count": 19,
   "metadata": {
    "collapsed": false
   },
   "outputs": [
    {
     "name": "stdout",
     "output_type": "stream",
     "text": [
      "number_of_customers         0.9981\n",
      "total_revenue               1.0000\n",
      "avg_revenue_per_customer    0.2291\n",
      "avg_order_value            -0.0000\n",
      "Name: total_revenue, dtype: float64\n"
     ]
    }
   ],
   "source": [
    "correlations = countries_df.corr().round(4)\n",
    "correlations = correlations[\"total_revenue\"]\n",
    "print(correlations)"
   ]
  },
  {
   "cell_type": "markdown",
   "metadata": {},
   "source": [
    "The most profitable countries are USA, Canada, Brazil, France and Germany.\n",
    "\n",
    "There is a huge correlation between number of customers and total revenue (obviously), and a positive correlation between average revenue per customer and total revenue."
   ]
  },
  {
   "cell_type": "markdown",
   "metadata": {
    "collapsed": true
   },
   "source": [
    "# Analyzing what to prefer: selling individual tracks or selling albums"
   ]
  },
  {
   "cell_type": "code",
   "execution_count": 26,
   "metadata": {
    "collapsed": false
   },
   "outputs": [
    {
     "data": {
      "text/html": [
       "<div>\n",
       "<table border=\"1\" class=\"dataframe\">\n",
       "  <thead>\n",
       "    <tr style=\"text-align: right;\">\n",
       "      <th></th>\n",
       "      <th>track_id</th>\n",
       "    </tr>\n",
       "  </thead>\n",
       "  <tbody>\n",
       "    <tr>\n",
       "      <th>0</th>\n",
       "      <td>2160</td>\n",
       "    </tr>\n",
       "    <tr>\n",
       "      <th>1</th>\n",
       "      <td>875</td>\n",
       "    </tr>\n",
       "    <tr>\n",
       "      <th>2</th>\n",
       "      <td>83</td>\n",
       "    </tr>\n",
       "    <tr>\n",
       "      <th>3</th>\n",
       "      <td>16</td>\n",
       "    </tr>\n",
       "    <tr>\n",
       "      <th>4</th>\n",
       "      <td>1756</td>\n",
       "    </tr>\n",
       "    <tr>\n",
       "      <th>5</th>\n",
       "      <td>3460</td>\n",
       "    </tr>\n",
       "    <tr>\n",
       "      <th>6</th>\n",
       "      <td>93</td>\n",
       "    </tr>\n",
       "    <tr>\n",
       "      <th>7</th>\n",
       "      <td>24</td>\n",
       "    </tr>\n",
       "    <tr>\n",
       "      <th>8</th>\n",
       "      <td>21</td>\n",
       "    </tr>\n",
       "    <tr>\n",
       "      <th>9</th>\n",
       "      <td>15</td>\n",
       "    </tr>\n",
       "  </tbody>\n",
       "</table>\n",
       "</div>"
      ],
      "text/plain": [
       "   track_id\n",
       "0      2160\n",
       "1       875\n",
       "2        83\n",
       "3        16\n",
       "4      1756\n",
       "5      3460\n",
       "6        93\n",
       "7        24\n",
       "8        21\n",
       "9        15"
      ]
     },
     "execution_count": 26,
     "metadata": {},
     "output_type": "execute_result"
    }
   ],
   "source": [
    "query=\"\"\"\n",
    "select \n",
    "    il.track_id\n",
    "from invoice i\n",
    "left join invoice_line il on il.invoice_id = i.invoice_id\n",
    "--group by i.invoice_id\n",
    "\"\"\"\n",
    "test_df = run_query(query)\n",
    "test_df.head(10)"
   ]
  },
  {
   "cell_type": "code",
   "execution_count": 27,
   "metadata": {
    "collapsed": false
   },
   "outputs": [
    {
     "data": {
      "text/plain": [
       "(4757, 1)"
      ]
     },
     "execution_count": 27,
     "metadata": {},
     "output_type": "execute_result"
    }
   ],
   "source": [
    "test_df.shape"
   ]
  },
  {
   "cell_type": "code",
   "execution_count": null,
   "metadata": {
    "collapsed": true
   },
   "outputs": [],
   "source": []
  }
 ],
 "metadata": {
  "kernelspec": {
   "display_name": "Python 3",
   "language": "python",
   "name": "python3"
  },
  "language_info": {
   "codemirror_mode": {
    "name": "ipython",
    "version": 3
   },
   "file_extension": ".py",
   "mimetype": "text/x-python",
   "name": "python",
   "nbconvert_exporter": "python",
   "pygments_lexer": "ipython3",
   "version": "3.4.3"
  }
 },
 "nbformat": 4,
 "nbformat_minor": 2
}
